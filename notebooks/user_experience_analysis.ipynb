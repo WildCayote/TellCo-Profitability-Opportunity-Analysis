{
 "cells": [
  {
   "cell_type": "markdown",
   "metadata": {},
   "source": [
    "### Add scripts path to the notebook"
   ]
  },
  {
   "cell_type": "code",
   "execution_count": 1,
   "metadata": {},
   "outputs": [
    {
     "name": "stdout",
     "output_type": "stream",
     "text": [
      "d:\\KifiyaAIM-Course\\Week - 2\\TellCo-Profitability-Opportunity-Analysis\\notebooks\n"
     ]
    }
   ],
   "source": [
    "import sys\n",
    "import os\n",
    "\n",
    "current_dir = os.getcwd()\n",
    "print(current_dir)\n",
    "\n",
    "# Get the parent directory\n",
    "parent_dir = os.path.dirname(current_dir)\n",
    "\n",
    "scripts_path = os.path.join(parent_dir, 'scripts')\n",
    "\n",
    "# Insert the path to the parent directory\n",
    "sys.path.insert(0, parent_dir)\n",
    "\n",
    "# Insert the path to the Scripts directory\n",
    "sys.path.insert(0, scripts_path)\n",
    "\n",
    "# Add the parent directory to the Python path\n",
    "sys.path.append(os.path.abspath(os.path.join('..')))"
   ]
  },
  {
   "cell_type": "markdown",
   "metadata": {},
   "source": [
    "### Import statements"
   ]
  },
  {
   "cell_type": "code",
   "execution_count": 14,
   "metadata": {},
   "outputs": [],
   "source": [
    "import math\n",
    "import pandas as pd\n",
    "import seaborn as sns\n",
    "from matplotlib import pyplot as plt\n",
    "\n",
    "\n",
    "from scripts.database_client import DB_Client\n",
    "from scripts.data_cleaner import DataCleaner"
   ]
  },
  {
   "cell_type": "markdown",
   "metadata": {},
   "source": [
    "### Initialize DB_Client"
   ]
  },
  {
   "cell_type": "code",
   "execution_count": 3,
   "metadata": {},
   "outputs": [],
   "source": [
    "# obtain values form environment variables\n",
    "host = os.getenv(\"DB_HOST\")\n",
    "user_name = os.getenv(\"DB_USER\")\n",
    "passowrd = os.getenv(\"DB_PASSWORD\")\n",
    "port = os.getenv(\"DB_PORT\")\n",
    "database = os.getenv(\"DB_NAME\")"
   ]
  },
  {
   "cell_type": "code",
   "execution_count": 4,
   "metadata": {},
   "outputs": [],
   "source": [
    "db_client = DB_Client(\n",
    "    host=host,\n",
    "    user_name=user_name,\n",
    "    password=passowrd,\n",
    "    port=port,\n",
    "    database_name=database\n",
    ")"
   ]
  },
  {
   "cell_type": "markdown",
   "metadata": {},
   "source": [
    "### Load data from the database"
   ]
  },
  {
   "cell_type": "code",
   "execution_count": 5,
   "metadata": {},
   "outputs": [
    {
     "name": "stderr",
     "output_type": "stream",
     "text": [
      "d:\\KifiyaAIM-Course\\Week - 2\\TellCo-Profitability-Opportunity-Analysis\\scripts\\database_client.py:82: UserWarning: pandas only supports SQLAlchemy connectable (engine/connection) or database string URI or sqlite3 DBAPI2 connection. Other DBAPI2 objects are not tested. Please consider using SQLAlchemy.\n",
      "  response = pd.read_sql_query(sql=query, con=self.connection)\n"
     ]
    }
   ],
   "source": [
    "data = db_client.dump_data()"
   ]
  },
  {
   "cell_type": "markdown",
   "metadata": {},
   "source": [
    "### Data Cleaning"
   ]
  },
  {
   "cell_type": "markdown",
   "metadata": {},
   "source": [
    "1) Initialize the cleaner class"
   ]
  },
  {
   "cell_type": "code",
   "execution_count": 6,
   "metadata": {},
   "outputs": [],
   "source": [
    "cleaner = DataCleaner(data=data)"
   ]
  },
  {
   "cell_type": "markdown",
   "metadata": {},
   "source": [
    "2) Get the empty values"
   ]
  },
  {
   "cell_type": "code",
   "execution_count": 7,
   "metadata": {},
   "outputs": [
    {
     "data": {
      "text/plain": [
       "Bearer Id                                   0.006607\n",
       "Start                                       0.000007\n",
       "Start ms                                    0.000007\n",
       "End                                         0.000007\n",
       "End ms                                      0.000007\n",
       "Dur. (ms)                                   0.000007\n",
       "IMSI                                        0.003800\n",
       "MSISDN/Number                               0.007107\n",
       "IMEI                                        0.003813\n",
       "Last Location Name                          0.007687\n",
       "Avg RTT DL (ms)                             0.185525\n",
       "Avg RTT UL (ms)                             0.185412\n",
       "Avg Bearer TP DL (kbps)                     0.000007\n",
       "Avg Bearer TP UL (kbps)                     0.000007\n",
       "TCP DL Retrans. Vol (Bytes)                 0.587636\n",
       "TCP UL Retrans. Vol (Bytes)                 0.644322\n",
       "DL TP < 50 Kbps (%)                         0.005027\n",
       "50 Kbps < DL TP < 250 Kbps (%)              0.005027\n",
       "250 Kbps < DL TP < 1 Mbps (%)               0.005027\n",
       "DL TP > 1 Mbps (%)                          0.005027\n",
       "UL TP < 10 Kbps (%)                         0.005280\n",
       "10 Kbps < UL TP < 50 Kbps (%)               0.005280\n",
       "50 Kbps < UL TP < 300 Kbps (%)              0.005280\n",
       "UL TP > 300 Kbps (%)                        0.005280\n",
       "HTTP DL (Bytes)                             0.543156\n",
       "HTTP UL (Bytes)                             0.545396\n",
       "Activity Duration DL (ms)                   0.000007\n",
       "Activity Duration UL (ms)                   0.000007\n",
       "Dur. (ms).1                                 0.000007\n",
       "Handset Manufacturer                        0.003813\n",
       "Handset Type                                0.003813\n",
       "Nb of sec with 125000B < Vol DL             0.650249\n",
       "Nb of sec with 1250B < Vol UL < 6250B       0.619289\n",
       "Nb of sec with 31250B < Vol DL < 125000B    0.623903\n",
       "Nb of sec with 37500B < Vol UL              0.868354\n",
       "Nb of sec with 6250B < Vol DL < 31250B      0.588776\n",
       "Nb of sec with 6250B < Vol UL < 37500B      0.745615\n",
       "Nb of sec with Vol DL < 6250B               0.005033\n",
       "Nb of sec with Vol UL < 1250B               0.005287\n",
       "Social Media DL (Bytes)                     0.000000\n",
       "Social Media UL (Bytes)                     0.000000\n",
       "Google DL (Bytes)                           0.000000\n",
       "Google UL (Bytes)                           0.000000\n",
       "Email DL (Bytes)                            0.000000\n",
       "Email UL (Bytes)                            0.000000\n",
       "Youtube DL (Bytes)                          0.000000\n",
       "Youtube UL (Bytes)                          0.000000\n",
       "Netflix DL (Bytes)                          0.000000\n",
       "Netflix UL (Bytes)                          0.000000\n",
       "Gaming DL (Bytes)                           0.000000\n",
       "Gaming UL (Bytes)                           0.000000\n",
       "Other DL (Bytes)                            0.000000\n",
       "Other UL (Bytes)                            0.000000\n",
       "Total UL (Bytes)                            0.000007\n",
       "Total DL (Bytes)                            0.000007\n",
       "dtype: float64"
      ]
     },
     "execution_count": 7,
     "metadata": {},
     "output_type": "execute_result"
    }
   ],
   "source": [
    "cleaner.find_na()"
   ]
  },
  {
   "cell_type": "markdown",
   "metadata": {},
   "source": [
    "3) Define columns of interest and then replace the NA values with either the mode or the mean of the columns"
   ]
  },
  {
   "cell_type": "code",
   "execution_count": 8,
   "metadata": {},
   "outputs": [],
   "source": [
    "# define the columns of interest\n",
    "columns_of_interest = [\"MSISDN/Number\", \"Avg RTT DL (ms)\", \"Avg RTT UL (ms)\", \"TCP DL Retrans. Vol (Bytes)\", \"TCP UL Retrans. Vol (Bytes)\", \"Handset Type\", \"Avg Bearer TP DL (kbps)\", \"Avg Bearer TP UL (kbps)\"]\n",
    "\n",
    "# now let us define columns where we will use mode to replace the NA values\n",
    "mode_columns = [\"MSISDN/Number\", \"Handset Type\"]\n",
    "\n",
    "# now let us define columns where we will use mean to replace the NA values\n",
    "mean_columns = [col for col in columns_of_interest if col not in mode_columns]"
   ]
  },
  {
   "cell_type": "code",
   "execution_count": 9,
   "metadata": {},
   "outputs": [],
   "source": [
    "# clean the categorical data(ones who use mode for their NA)\n",
    "data[mode_columns] = cleaner.fill_na(columns=mode_columns, method='mode')"
   ]
  },
  {
   "cell_type": "code",
   "execution_count": 10,
   "metadata": {},
   "outputs": [],
   "source": [
    "# clean the numeric data(ones who use mean for their NA)\n",
    "data[mean_columns] = cleaner.fill_na(columns=mean_columns, method='mean')"
   ]
  },
  {
   "cell_type": "code",
   "execution_count": 11,
   "metadata": {},
   "outputs": [
    {
     "data": {
      "text/plain": [
       "Avg RTT DL (ms)                0.0\n",
       "Avg RTT UL (ms)                0.0\n",
       "TCP DL Retrans. Vol (Bytes)    0.0\n",
       "TCP UL Retrans. Vol (Bytes)    0.0\n",
       "Avg Bearer TP DL (kbps)        0.0\n",
       "Avg Bearer TP UL (kbps)        0.0\n",
       "MSISDN/Number                  0.0\n",
       "Handset Type                   0.0\n",
       "dtype: float64"
      ]
     },
     "execution_count": 11,
     "metadata": {},
     "output_type": "execute_result"
    }
   ],
   "source": [
    "data[[*mean_columns, *mode_columns]].isna().mean()"
   ]
  },
  {
   "cell_type": "markdown",
   "metadata": {},
   "source": [
    "We can see that our cleaning is complete for the columns of interest"
   ]
  },
  {
   "cell_type": "markdown",
   "metadata": {},
   "source": [
    "### Aggregate the columns of interest per customer (\"MSISDN/Number\")"
   ]
  },
  {
   "cell_type": "markdown",
   "metadata": {},
   "source": [
    "1) Group the customers using MSISDN/Number"
   ]
  },
  {
   "cell_type": "code",
   "execution_count": 12,
   "metadata": {},
   "outputs": [],
   "source": [
    "customer_grouping = data.groupby(by=\"MSISDN/Number\")"
   ]
  },
  {
   "cell_type": "markdown",
   "metadata": {},
   "source": [
    "2) Aggregate the customers Avg TCP retransmission, Avg RTT, Handset type, Avg Throughput"
   ]
  },
  {
   "cell_type": "code",
   "execution_count": 27,
   "metadata": {},
   "outputs": [],
   "source": [
    "# aggregate the numeric values using average\n",
    "avg_stats = customer_grouping.agg({\n",
    "    \"Avg RTT DL (ms)\": \"mean\",\n",
    "    \"Avg RTT UL (ms)\": \"mean\",\n",
    "    \"TCP DL Retrans. Vol (Bytes)\": \"mean\",\n",
    "    \"TCP UL Retrans. Vol (Bytes)\": \"mean\",\n",
    "    \"Avg Bearer TP DL (kbps)\": \"mean\",\n",
    "    \"Avg Bearer TP UL (kbps)\": \"mean\",\n",
    "    \"Handset Type\": lambda x: x.mode().iloc[0] # find the most frequent handset type for the user\n",
    "})\n",
    "\n",
    "# add the respective averages\n",
    "avg_stats[\"avg_rtt\"] = avg_stats[[\"Avg RTT DL (ms)\" , \"Avg RTT UL (ms)\"]].mean(axis=1)\n",
    "avg_stats[\"avg_tcp_rt\"] = avg_stats[[\"TCP DL Retrans. Vol (Bytes)\", \"TCP UL Retrans. Vol (Bytes)\"]].mean(axis=1)\n",
    "avg_stats[\"avg_throughput\"] = avg_stats[[\"Avg Bearer TP DL (kbps)\", \"Avg Bearer TP UL (kbps)\"]].mean(axis=1)\n",
    "\n",
    "# rename column Handset Type\n",
    "avg_stats = avg_stats.rename(columns={\n",
    "    \"Handset Type\": \"handset_type\"\n",
    "})\n",
    "\n",
    "# drop the old columns\n",
    "avg_stats = avg_stats.drop(columns=[\"Avg RTT DL (ms)\" , \"Avg RTT UL (ms)\", \"TCP DL Retrans. Vol (Bytes)\", \"TCP UL Retrans. Vol (Bytes)\", \"Avg Bearer TP DL (kbps)\", \"Avg Bearer TP UL (kbps)\"])"
   ]
  },
  {
   "cell_type": "markdown",
   "metadata": {},
   "source": [
    "3) Compute & list 10 of the top, bottom, and most frequent"
   ]
  },
  {
   "cell_type": "markdown",
   "metadata": {},
   "source": [
    "- With respect to TCP values"
   ]
  },
  {
   "cell_type": "code",
   "execution_count": 44,
   "metadata": {},
   "outputs": [],
   "source": [
    "# sort the data using average tcp \n",
    "tcp_sorted = avg_stats.sort_values(by=\"avg_tcp_rt\", ascending=False)"
   ]
  },
  {
   "cell_type": "code",
   "execution_count": 46,
   "metadata": {},
   "outputs": [
    {
     "data": {
      "text/plain": [
       "MSISDN/Number\n",
       "3.369858e+10    2.150739e+09\n",
       "3.365871e+10    2.144060e+09\n",
       "3.366491e+10    2.134324e+09\n",
       "3.365863e+10    2.127330e+09\n",
       "3.366613e+10    2.105629e+09\n",
       "3.366877e+10    2.083297e+09\n",
       "3.366131e+10    2.068969e+09\n",
       "3.366240e+10    2.058902e+09\n",
       "3.366682e+10    1.984060e+09\n",
       "3.376264e+10    1.893435e+09\n",
       "Name: avg_tcp_rt, dtype: float64"
      ]
     },
     "execution_count": 46,
     "metadata": {},
     "output_type": "execute_result"
    }
   ],
   "source": [
    "# top 10\n",
    "top_ten = tcp_sorted.head(10)\n",
    "\n",
    "# print out the results\n",
    "top_ten['avg_tcp_rt']"
   ]
  },
  {
   "cell_type": "code",
   "execution_count": 47,
   "metadata": {},
   "outputs": [
    {
     "data": {
      "text/plain": [
       "MSISDN/Number\n",
       "3.369969e+10    91.0\n",
       "3.367937e+10    89.5\n",
       "3.378420e+10    88.5\n",
       "3.365068e+10    88.0\n",
       "3.376964e+10    88.0\n",
       "3.360783e+10    71.5\n",
       "3.362636e+10    67.0\n",
       "3.376206e+10    64.5\n",
       "3.361478e+10    64.0\n",
       "3.365013e+10    48.5\n",
       "Name: avg_tcp_rt, dtype: float64"
      ]
     },
     "execution_count": 47,
     "metadata": {},
     "output_type": "execute_result"
    }
   ],
   "source": [
    "# bottom 10\n",
    "bottome_ten = tcp_sorted.tail(10)\n",
    "\n",
    "# print out the results\n",
    "bottome_ten['avg_tcp_rt']"
   ]
  },
  {
   "cell_type": "code",
   "execution_count": 48,
   "metadata": {},
   "outputs": [
    {
     "data": {
      "text/plain": [
       "avg_tcp_rt\n",
       "1.078479e+07    55974\n",
       "1.040560e+07      367\n",
       "1.040562e+07      167\n",
       "3.804943e+05      145\n",
       "1.059520e+07       82\n",
       "1.040562e+07       81\n",
       "3.798753e+05       78\n",
       "3.811593e+05       78\n",
       "3.798483e+05       70\n",
       "1.040629e+07       65\n",
       "Name: count, dtype: int64"
      ]
     },
     "execution_count": 48,
     "metadata": {},
     "output_type": "execute_result"
    }
   ],
   "source": [
    "# most frequent values of the average tcp retransmission\n",
    "most_frequent = avg_stats[\"avg_tcp_rt\"].value_counts().head(10)\n",
    "\n",
    "# print out the results\n",
    "most_frequent"
   ]
  },
  {
   "cell_type": "markdown",
   "metadata": {},
   "source": [
    "- With respect to RTT values "
   ]
  },
  {
   "cell_type": "code",
   "execution_count": 49,
   "metadata": {},
   "outputs": [],
   "source": [
    "# sort the data using average tcp \n",
    "rtt_sorted = avg_stats.sort_values(by=\"avg_rtt\", ascending=False)"
   ]
  },
  {
   "cell_type": "code",
   "execution_count": 50,
   "metadata": {},
   "outputs": [
    {
     "data": {
      "text/plain": [
       "MSISDN/Number\n",
       "3.366232e+10    48462.00\n",
       "3.368369e+10    27424.00\n",
       "3.366087e+10    16167.50\n",
       "3.376094e+10    13639.00\n",
       "3.360679e+10    13150.00\n",
       "3.367182e+10    12857.50\n",
       "3.378187e+10    12694.00\n",
       "3.378401e+10    12369.00\n",
       "3.369855e+10    11505.25\n",
       "3.362963e+10    10490.00\n",
       "Name: avg_rtt, dtype: float64"
      ]
     },
     "execution_count": 50,
     "metadata": {},
     "output_type": "execute_result"
    }
   ],
   "source": [
    "# top 10\n",
    "top_ten = rtt_sorted.head(10)\n",
    "\n",
    "# print out the results\n",
    "top_ten['avg_rtt']"
   ]
  },
  {
   "cell_type": "code",
   "execution_count": 51,
   "metadata": {},
   "outputs": [
    {
     "data": {
      "text/plain": [
       "MSISDN/Number\n",
       "3.363468e+10    5.0\n",
       "3.361085e+10    4.5\n",
       "3.367220e+10    4.5\n",
       "3.364768e+10    4.0\n",
       "3.366862e+10    3.0\n",
       "3.365949e+10    2.5\n",
       "3.369505e+10    2.0\n",
       "3.366020e+10    1.0\n",
       "3.365298e+10    0.0\n",
       "3.366158e+10    0.0\n",
       "Name: avg_rtt, dtype: float64"
      ]
     },
     "execution_count": 51,
     "metadata": {},
     "output_type": "execute_result"
    }
   ],
   "source": [
    "# bottom 10\n",
    "bottome_ten = rtt_sorted.tail(10)\n",
    "\n",
    "# print out the results\n",
    "bottome_ten['avg_rtt']"
   ]
  },
  {
   "cell_type": "code",
   "execution_count": 52,
   "metadata": {},
   "outputs": [
    {
     "data": {
      "text/plain": [
       "avg_rtt\n",
       "63.729294    18515\n",
       "14.500000     2950\n",
       "19.500000     2367\n",
       "19.000000     1639\n",
       "20.000000     1583\n",
       "15.000000     1577\n",
       "14.000000     1456\n",
       "24.500000     1308\n",
       "20.500000     1207\n",
       "15.500000     1190\n",
       "Name: count, dtype: int64"
      ]
     },
     "execution_count": 52,
     "metadata": {},
     "output_type": "execute_result"
    }
   ],
   "source": [
    "# most frequent values of the average tcp retransmission\n",
    "most_frequent = avg_stats[\"avg_rtt\"].value_counts().head(10)\n",
    "\n",
    "# print out the results\n",
    "most_frequent"
   ]
  },
  {
   "cell_type": "markdown",
   "metadata": {},
   "source": [
    "- Now with respect to Throughput values"
   ]
  },
  {
   "cell_type": "code",
   "execution_count": 53,
   "metadata": {},
   "outputs": [],
   "source": [
    "# sort the data using average tcp \n",
    "thoughput_sorted = avg_stats.sort_values(by=\"avg_throughput\", ascending=False)"
   ]
  },
  {
   "cell_type": "code",
   "execution_count": 54,
   "metadata": {},
   "outputs": [
    {
     "data": {
      "text/plain": [
       "MSISDN/Number\n",
       "3.365991e+10     17.5\n",
       "3.366268e+10     18.5\n",
       "3.366566e+10     47.0\n",
       "3.366349e+10     45.0\n",
       "3.362795e+10     27.5\n",
       "3.362118e+10     17.0\n",
       "3.378240e+10     44.5\n",
       "3.365148e+10     25.0\n",
       "3.376033e+10    149.0\n",
       "3.376267e+10     21.0\n",
       "Name: avg_rtt, dtype: float64"
      ]
     },
     "execution_count": 54,
     "metadata": {},
     "output_type": "execute_result"
    }
   ],
   "source": [
    "# top 10\n",
    "top_ten = thoughput_sorted.head(10)\n",
    "\n",
    "# print out the results\n",
    "top_ten['avg_rtt']"
   ]
  },
  {
   "cell_type": "code",
   "execution_count": 55,
   "metadata": {},
   "outputs": [
    {
     "data": {
      "text/plain": [
       "MSISDN/Number\n",
       "3.366062e+10    63.729294\n",
       "3.365013e+10    63.729294\n",
       "3.366924e+10    63.729294\n",
       "3.366862e+10    63.729294\n",
       "3.366050e+10    63.729294\n",
       "3.363047e+10    63.729294\n",
       "3.365947e+10    63.729294\n",
       "3.366741e+10    63.729294\n",
       "3.368759e+10    63.729294\n",
       "3.378967e+10    63.729294\n",
       "Name: avg_rtt, dtype: float64"
      ]
     },
     "execution_count": 55,
     "metadata": {},
     "output_type": "execute_result"
    }
   ],
   "source": [
    "# bottom 10\n",
    "bottome_ten = thoughput_sorted.tail(10)\n",
    "\n",
    "# print out the results\n",
    "bottome_ten['avg_rtt']"
   ]
  },
  {
   "cell_type": "code",
   "execution_count": 56,
   "metadata": {},
   "outputs": [
    {
     "data": {
      "text/plain": [
       "avg_throughput\n",
       "7.5     2872\n",
       "31.5    2138\n",
       "48.5    1094\n",
       "45.0    1062\n",
       "49.0    1025\n",
       "48.0     938\n",
       "49.5     918\n",
       "44.5     881\n",
       "45.5     864\n",
       "47.5     856\n",
       "Name: count, dtype: int64"
      ]
     },
     "execution_count": 56,
     "metadata": {},
     "output_type": "execute_result"
    }
   ],
   "source": [
    "# most frequent values of the average tcp retransmission\n",
    "most_frequent = avg_stats[\"avg_throughput\"].value_counts().head(10)\n",
    "\n",
    "# print out the results\n",
    "most_frequent"
   ]
  }
 ],
 "metadata": {
  "kernelspec": {
   "display_name": "venv",
   "language": "python",
   "name": "python3"
  },
  "language_info": {
   "codemirror_mode": {
    "name": "ipython",
    "version": 3
   },
   "file_extension": ".py",
   "mimetype": "text/x-python",
   "name": "python",
   "nbconvert_exporter": "python",
   "pygments_lexer": "ipython3",
   "version": "3.10.2"
  }
 },
 "nbformat": 4,
 "nbformat_minor": 2
}
