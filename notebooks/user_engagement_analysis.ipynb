{
 "cells": [
  {
   "cell_type": "markdown",
   "metadata": {},
   "source": [
    "### Add scripts path to the notebook"
   ]
  },
  {
   "cell_type": "code",
   "execution_count": 1,
   "metadata": {},
   "outputs": [
    {
     "name": "stdout",
     "output_type": "stream",
     "text": [
      "d:\\KifiyaAIM-Course\\Week - 2\\TellCo-Profitability-Opportunity-Analysis\\notebooks\n"
     ]
    }
   ],
   "source": [
    "import sys\n",
    "import os\n",
    "\n",
    "current_dir = os.getcwd()\n",
    "print(current_dir)\n",
    "\n",
    "# Get the parent directory\n",
    "parent_dir = os.path.dirname(current_dir)\n",
    "\n",
    "scripts_path = os.path.join(parent_dir, 'scripts')\n",
    "\n",
    "# Insert the path to the parent directory\n",
    "sys.path.insert(0, parent_dir)\n",
    "\n",
    "# Insert the path to the Scripts directory\n",
    "sys.path.insert(0, scripts_path)\n",
    "\n",
    "# Add the parent directory to the Python path\n",
    "sys.path.append(os.path.abspath(os.path.join('..')))"
   ]
  },
  {
   "cell_type": "markdown",
   "metadata": {},
   "source": [
    "### Import Statements"
   ]
  },
  {
   "cell_type": "code",
   "execution_count": 3,
   "metadata": {},
   "outputs": [],
   "source": [
    "import pandas as pd\n",
    "import seaborn as sns\n",
    "from matplotlib import pyplot as plt\n",
    "\n",
    "from scripts.database_client import DB_Client"
   ]
  },
  {
   "cell_type": "markdown",
   "metadata": {},
   "source": [
    "### Initialize DB_Client"
   ]
  },
  {
   "cell_type": "code",
   "execution_count": 4,
   "metadata": {},
   "outputs": [],
   "source": [
    "# obtain values form environment variables\n",
    "host = os.getenv(\"DB_HOST\")\n",
    "user_name = os.getenv(\"DB_USER\")\n",
    "passowrd = os.getenv(\"DB_PASSWORD\")\n",
    "port = os.getenv(\"DB_PORT\")\n",
    "database = os.getenv(\"DB_NAME\")"
   ]
  },
  {
   "cell_type": "code",
   "execution_count": 5,
   "metadata": {},
   "outputs": [],
   "source": [
    "db_client = DB_Client(\n",
    "    host=host,\n",
    "    user_name=user_name,\n",
    "    password=passowrd,\n",
    "    port=port,\n",
    "    database_name=database\n",
    ")"
   ]
  },
  {
   "cell_type": "markdown",
   "metadata": {},
   "source": [
    "### Load the data from the database"
   ]
  },
  {
   "cell_type": "code",
   "execution_count": 6,
   "metadata": {},
   "outputs": [
    {
     "name": "stderr",
     "output_type": "stream",
     "text": [
      "d:\\KifiyaAIM-Course\\Week - 2\\TellCo-Profitability-Opportunity-Analysis\\scripts\\database_client.py:82: UserWarning: pandas only supports SQLAlchemy connectable (engine/connection) or database string URI or sqlite3 DBAPI2 connection. Other DBAPI2 objects are not tested. Please consider using SQLAlchemy.\n",
      "  response = pd.read_sql_query(sql=query, con=self.connection)\n"
     ]
    }
   ],
   "source": [
    "data = db_client.dump_data()"
   ]
  },
  {
   "cell_type": "markdown",
   "metadata": {},
   "source": [
    "### Data Cleaning"
   ]
  },
  {
   "cell_type": "code",
   "execution_count": 7,
   "metadata": {},
   "outputs": [
    {
     "data": {
      "text/plain": [
       "Bearer Id                                   0.006607\n",
       "Start                                       0.000007\n",
       "Start ms                                    0.000007\n",
       "End                                         0.000007\n",
       "End ms                                      0.000007\n",
       "Dur. (ms)                                   0.000007\n",
       "IMSI                                        0.003800\n",
       "MSISDN/Number                               0.007107\n",
       "IMEI                                        0.003813\n",
       "Last Location Name                          0.007687\n",
       "Avg RTT DL (ms)                             0.185525\n",
       "Avg RTT UL (ms)                             0.185412\n",
       "Avg Bearer TP DL (kbps)                     0.000007\n",
       "Avg Bearer TP UL (kbps)                     0.000007\n",
       "TCP DL Retrans. Vol (Bytes)                 0.587636\n",
       "TCP UL Retrans. Vol (Bytes)                 0.644322\n",
       "DL TP < 50 Kbps (%)                         0.005027\n",
       "50 Kbps < DL TP < 250 Kbps (%)              0.005027\n",
       "250 Kbps < DL TP < 1 Mbps (%)               0.005027\n",
       "DL TP > 1 Mbps (%)                          0.005027\n",
       "UL TP < 10 Kbps (%)                         0.005280\n",
       "10 Kbps < UL TP < 50 Kbps (%)               0.005280\n",
       "50 Kbps < UL TP < 300 Kbps (%)              0.005280\n",
       "UL TP > 300 Kbps (%)                        0.005280\n",
       "HTTP DL (Bytes)                             0.543156\n",
       "HTTP UL (Bytes)                             0.545396\n",
       "Activity Duration DL (ms)                   0.000007\n",
       "Activity Duration UL (ms)                   0.000007\n",
       "Dur. (ms).1                                 0.000007\n",
       "Handset Manufacturer                        0.003813\n",
       "Handset Type                                0.003813\n",
       "Nb of sec with 125000B < Vol DL             0.650249\n",
       "Nb of sec with 1250B < Vol UL < 6250B       0.619289\n",
       "Nb of sec with 31250B < Vol DL < 125000B    0.623903\n",
       "Nb of sec with 37500B < Vol UL              0.868354\n",
       "Nb of sec with 6250B < Vol DL < 31250B      0.588776\n",
       "Nb of sec with 6250B < Vol UL < 37500B      0.745615\n",
       "Nb of sec with Vol DL < 6250B               0.005033\n",
       "Nb of sec with Vol UL < 1250B               0.005287\n",
       "Social Media DL (Bytes)                     0.000000\n",
       "Social Media UL (Bytes)                     0.000000\n",
       "Google DL (Bytes)                           0.000000\n",
       "Google UL (Bytes)                           0.000000\n",
       "Email DL (Bytes)                            0.000000\n",
       "Email UL (Bytes)                            0.000000\n",
       "Youtube DL (Bytes)                          0.000000\n",
       "Youtube UL (Bytes)                          0.000000\n",
       "Netflix DL (Bytes)                          0.000000\n",
       "Netflix UL (Bytes)                          0.000000\n",
       "Gaming DL (Bytes)                           0.000000\n",
       "Gaming UL (Bytes)                           0.000000\n",
       "Other DL (Bytes)                            0.000000\n",
       "Other UL (Bytes)                            0.000000\n",
       "Total UL (Bytes)                            0.000007\n",
       "Total DL (Bytes)                            0.000007\n",
       "dtype: float64"
      ]
     },
     "execution_count": 7,
     "metadata": {},
     "output_type": "execute_result"
    }
   ],
   "source": [
    "data.isna().mean()"
   ]
  },
  {
   "cell_type": "markdown",
   "metadata": {},
   "source": [
    "As described in the _user_overview_analysis.ipynb_ since the data has a lot of missing vlaues in some columns droping the rows isn't the best option. So only cleanning the features that are important/relevant to the current task is the better option. The features of interest(columns) with null values are put in a list and the cleaning only happens in those columns, just for the specific task"
   ]
  },
  {
   "cell_type": "code",
   "execution_count": 8,
   "metadata": {},
   "outputs": [
    {
     "data": {
      "text/plain": [
       "MSISDN/Number    0.007107\n",
       "IMSI             0.003800\n",
       "Bearer Id        0.006607\n",
       "Start            0.000007\n",
       "Start ms         0.000007\n",
       "End              0.000007\n",
       "End ms           0.000007\n",
       "Dur. (ms)        0.000007\n",
       "Dur. (ms).1      0.000007\n",
       "dtype: float64"
      ]
     },
     "execution_count": 8,
     "metadata": {},
     "output_type": "execute_result"
    }
   ],
   "source": [
    "columns_of_interest = [\"MSISDN/Number\", \"IMSI\", \"Bearer Id\", \"Start\", \"Start ms\", \"End\", \"End ms\", \"Dur. (ms)\", \"Dur. (ms).1\"]\n",
    "data[columns_of_interest].isna().mean()"
   ]
  },
  {
   "cell_type": "markdown",
   "metadata": {},
   "source": [
    "I have decided to drop the missing values found in the given columns because the amount of data we loose is very little"
   ]
  },
  {
   "cell_type": "code",
   "execution_count": 9,
   "metadata": {},
   "outputs": [],
   "source": [
    "data.dropna(subset=columns_of_interest, inplace=True)"
   ]
  },
  {
   "cell_type": "markdown",
   "metadata": {},
   "source": [
    "### Tracking user engagement "
   ]
  },
  {
   "cell_type": "markdown",
   "metadata": {},
   "source": [
    "1) Group data based on the MSISDN (phone number)"
   ]
  },
  {
   "cell_type": "code",
   "execution_count": 12,
   "metadata": {},
   "outputs": [],
   "source": [
    "customer_grouping = data.groupby(by=\"MSISDN/Number\")"
   ]
  },
  {
   "cell_type": "markdown",
   "metadata": {},
   "source": [
    "2) Aggregate the required data. Since every entry in the database is a session we have to group them by the phone numebr, which we did above, and then calculate the total frequency by adding the unique _Bearer Id / sessionId_, summing up the download and upload byets for the sessions, and also adding the durations per sessions"
   ]
  },
  {
   "cell_type": "code",
   "execution_count": 37,
   "metadata": {},
   "outputs": [],
   "source": [
    "customer_data = customer_grouping.agg({\n",
    "    \"Bearer Id\": \"count\", # count the amount of session per sim card\n",
    "    \"Dur. (ms)\": \"sum\", # calculate the total duration per sim card in the data\n",
    "    \"Total UL (Bytes)\":  \"sum\", #calculate the total upload per sim card\n",
    "    \"Total DL (Bytes)\": \"sum\", # calculate the total download per sim card \n",
    "})\n",
    "\n",
    "# finding the total trafic(sum between total download and uplaod)\n",
    "customer_data[\"traffic\"] = customer_data[\"Total UL (Bytes)\"] + customer_data[\"Total DL (Bytes)\"]\n",
    "\n",
    "# renaming the fields\n",
    "customer_data.rename(columns={\n",
    "    \"Bearer Id\": \"session_freq\",\n",
    "    \"Dur. (ms)\": \"duration\",\n",
    "    \"Total UL (Bytes)\": \"upload_tot\",\n",
    "    \"Total DL (Bytes)\": \"download_tot\"\n",
    "}, inplace=True)"
   ]
  },
  {
   "cell_type": "code",
   "execution_count": 38,
   "metadata": {},
   "outputs": [
    {
     "data": {
      "text/plain": [
       "Index(['session_freq', 'duration', 'upload_tot', 'download_tot', 'traffic'], dtype='object')"
      ]
     },
     "execution_count": 38,
     "metadata": {},
     "output_type": "execute_result"
    }
   ],
   "source": [
    "customer_data.columns"
   ]
  },
  {
   "cell_type": "markdown",
   "metadata": {},
   "source": [
    "3) Reporting the top 10 customers per metric"
   ]
  },
  {
   "cell_type": "code",
   "execution_count": 42,
   "metadata": {},
   "outputs": [
    {
     "data": {
      "text/html": [
       "<div>\n",
       "<style scoped>\n",
       "    .dataframe tbody tr th:only-of-type {\n",
       "        vertical-align: middle;\n",
       "    }\n",
       "\n",
       "    .dataframe tbody tr th {\n",
       "        vertical-align: top;\n",
       "    }\n",
       "\n",
       "    .dataframe thead th {\n",
       "        text-align: right;\n",
       "    }\n",
       "</style>\n",
       "<table border=\"1\" class=\"dataframe\">\n",
       "  <thead>\n",
       "    <tr style=\"text-align: right;\">\n",
       "      <th></th>\n",
       "      <th>session_freq</th>\n",
       "      <th>duration</th>\n",
       "      <th>upload_tot</th>\n",
       "      <th>download_tot</th>\n",
       "      <th>traffic</th>\n",
       "    </tr>\n",
       "    <tr>\n",
       "      <th>MSISDN/Number</th>\n",
       "      <th></th>\n",
       "      <th></th>\n",
       "      <th></th>\n",
       "      <th></th>\n",
       "      <th></th>\n",
       "    </tr>\n",
       "  </thead>\n",
       "  <tbody>\n",
       "    <tr>\n",
       "      <th>3.362632e+10</th>\n",
       "      <td>18</td>\n",
       "      <td>8791927.0</td>\n",
       "      <td>669650721.0</td>\n",
       "      <td>7.301517e+09</td>\n",
       "      <td>7.971167e+09</td>\n",
       "    </tr>\n",
       "    <tr>\n",
       "      <th>3.361489e+10</th>\n",
       "      <td>17</td>\n",
       "      <td>9966898.0</td>\n",
       "      <td>689483001.0</td>\n",
       "      <td>8.156743e+09</td>\n",
       "      <td>8.846226e+09</td>\n",
       "    </tr>\n",
       "    <tr>\n",
       "      <th>3.362578e+10</th>\n",
       "      <td>17</td>\n",
       "      <td>18553754.0</td>\n",
       "      <td>729577380.0</td>\n",
       "      <td>7.770043e+09</td>\n",
       "      <td>8.499621e+09</td>\n",
       "    </tr>\n",
       "    <tr>\n",
       "      <th>3.365973e+10</th>\n",
       "      <td>16</td>\n",
       "      <td>4035428.0</td>\n",
       "      <td>624260321.0</td>\n",
       "      <td>7.081602e+09</td>\n",
       "      <td>7.705863e+09</td>\n",
       "    </tr>\n",
       "    <tr>\n",
       "      <th>3.376054e+10</th>\n",
       "      <td>15</td>\n",
       "      <td>9279434.0</td>\n",
       "      <td>703478581.0</td>\n",
       "      <td>7.811295e+09</td>\n",
       "      <td>8.514774e+09</td>\n",
       "    </tr>\n",
       "    <tr>\n",
       "      <th>3.367588e+10</th>\n",
       "      <td>15</td>\n",
       "      <td>4865947.0</td>\n",
       "      <td>581568792.0</td>\n",
       "      <td>7.309542e+09</td>\n",
       "      <td>7.891111e+09</td>\n",
       "    </tr>\n",
       "    <tr>\n",
       "      <th>3.366716e+10</th>\n",
       "      <td>13</td>\n",
       "      <td>8744914.0</td>\n",
       "      <td>566326364.0</td>\n",
       "      <td>5.052068e+09</td>\n",
       "      <td>5.618394e+09</td>\n",
       "    </tr>\n",
       "    <tr>\n",
       "      <th>3.376041e+10</th>\n",
       "      <td>12</td>\n",
       "      <td>5321667.0</td>\n",
       "      <td>521518890.0</td>\n",
       "      <td>6.610852e+09</td>\n",
       "      <td>7.132371e+09</td>\n",
       "    </tr>\n",
       "    <tr>\n",
       "      <th>3.378632e+10</th>\n",
       "      <td>12</td>\n",
       "      <td>4059652.0</td>\n",
       "      <td>466330265.0</td>\n",
       "      <td>5.155901e+09</td>\n",
       "      <td>5.622232e+09</td>\n",
       "    </tr>\n",
       "    <tr>\n",
       "      <th>3.362708e+10</th>\n",
       "      <td>12</td>\n",
       "      <td>4703516.0</td>\n",
       "      <td>445251947.0</td>\n",
       "      <td>5.309479e+09</td>\n",
       "      <td>5.754731e+09</td>\n",
       "    </tr>\n",
       "  </tbody>\n",
       "</table>\n",
       "</div>"
      ],
      "text/plain": [
       "               session_freq    duration   upload_tot  download_tot  \\\n",
       "MSISDN/Number                                                        \n",
       "3.362632e+10             18   8791927.0  669650721.0  7.301517e+09   \n",
       "3.361489e+10             17   9966898.0  689483001.0  8.156743e+09   \n",
       "3.362578e+10             17  18553754.0  729577380.0  7.770043e+09   \n",
       "3.365973e+10             16   4035428.0  624260321.0  7.081602e+09   \n",
       "3.376054e+10             15   9279434.0  703478581.0  7.811295e+09   \n",
       "3.367588e+10             15   4865947.0  581568792.0  7.309542e+09   \n",
       "3.366716e+10             13   8744914.0  566326364.0  5.052068e+09   \n",
       "3.376041e+10             12   5321667.0  521518890.0  6.610852e+09   \n",
       "3.378632e+10             12   4059652.0  466330265.0  5.155901e+09   \n",
       "3.362708e+10             12   4703516.0  445251947.0  5.309479e+09   \n",
       "\n",
       "                    traffic  \n",
       "MSISDN/Number                \n",
       "3.362632e+10   7.971167e+09  \n",
       "3.361489e+10   8.846226e+09  \n",
       "3.362578e+10   8.499621e+09  \n",
       "3.365973e+10   7.705863e+09  \n",
       "3.376054e+10   8.514774e+09  \n",
       "3.367588e+10   7.891111e+09  \n",
       "3.366716e+10   5.618394e+09  \n",
       "3.376041e+10   7.132371e+09  \n",
       "3.378632e+10   5.622232e+09  \n",
       "3.362708e+10   5.754731e+09  "
      ]
     },
     "execution_count": 42,
     "metadata": {},
     "output_type": "execute_result"
    }
   ],
   "source": [
    "# find the top 10 users for session frequency\n",
    "frequency_order = customer_data.sort_values(by=\"session_freq\", ascending=False)\n",
    "frequency_order.head(10)"
   ]
  },
  {
   "cell_type": "code",
   "execution_count": 44,
   "metadata": {},
   "outputs": [
    {
     "data": {
      "text/html": [
       "<div>\n",
       "<style scoped>\n",
       "    .dataframe tbody tr th:only-of-type {\n",
       "        vertical-align: middle;\n",
       "    }\n",
       "\n",
       "    .dataframe tbody tr th {\n",
       "        vertical-align: top;\n",
       "    }\n",
       "\n",
       "    .dataframe thead th {\n",
       "        text-align: right;\n",
       "    }\n",
       "</style>\n",
       "<table border=\"1\" class=\"dataframe\">\n",
       "  <thead>\n",
       "    <tr style=\"text-align: right;\">\n",
       "      <th></th>\n",
       "      <th>session_freq</th>\n",
       "      <th>duration</th>\n",
       "      <th>upload_tot</th>\n",
       "      <th>download_tot</th>\n",
       "      <th>traffic</th>\n",
       "    </tr>\n",
       "    <tr>\n",
       "      <th>MSISDN/Number</th>\n",
       "      <th></th>\n",
       "      <th></th>\n",
       "      <th></th>\n",
       "      <th></th>\n",
       "      <th></th>\n",
       "    </tr>\n",
       "  </thead>\n",
       "  <tbody>\n",
       "    <tr>\n",
       "      <th>3.362578e+10</th>\n",
       "      <td>17</td>\n",
       "      <td>18553754.0</td>\n",
       "      <td>729577380.0</td>\n",
       "      <td>7.770043e+09</td>\n",
       "      <td>8.499621e+09</td>\n",
       "    </tr>\n",
       "    <tr>\n",
       "      <th>3.361489e+10</th>\n",
       "      <td>17</td>\n",
       "      <td>9966898.0</td>\n",
       "      <td>689483001.0</td>\n",
       "      <td>8.156743e+09</td>\n",
       "      <td>8.846226e+09</td>\n",
       "    </tr>\n",
       "    <tr>\n",
       "      <th>3.376054e+10</th>\n",
       "      <td>15</td>\n",
       "      <td>9279434.0</td>\n",
       "      <td>703478581.0</td>\n",
       "      <td>7.811295e+09</td>\n",
       "      <td>8.514774e+09</td>\n",
       "    </tr>\n",
       "    <tr>\n",
       "      <th>3.362632e+10</th>\n",
       "      <td>18</td>\n",
       "      <td>8791927.0</td>\n",
       "      <td>669650721.0</td>\n",
       "      <td>7.301517e+09</td>\n",
       "      <td>7.971167e+09</td>\n",
       "    </tr>\n",
       "    <tr>\n",
       "      <th>3.366716e+10</th>\n",
       "      <td>13</td>\n",
       "      <td>8744914.0</td>\n",
       "      <td>566326364.0</td>\n",
       "      <td>5.052068e+09</td>\n",
       "      <td>5.618394e+09</td>\n",
       "    </tr>\n",
       "    <tr>\n",
       "      <th>3.366284e+10</th>\n",
       "      <td>9</td>\n",
       "      <td>6614270.0</td>\n",
       "      <td>406424372.0</td>\n",
       "      <td>3.593674e+09</td>\n",
       "      <td>4.000098e+09</td>\n",
       "    </tr>\n",
       "    <tr>\n",
       "      <th>3.366469e+10</th>\n",
       "      <td>9</td>\n",
       "      <td>6288730.0</td>\n",
       "      <td>402180804.0</td>\n",
       "      <td>5.279827e+09</td>\n",
       "      <td>5.682007e+09</td>\n",
       "    </tr>\n",
       "    <tr>\n",
       "      <th>3.360313e+10</th>\n",
       "      <td>12</td>\n",
       "      <td>6287761.0</td>\n",
       "      <td>435587631.0</td>\n",
       "      <td>4.540607e+09</td>\n",
       "      <td>4.976195e+09</td>\n",
       "    </tr>\n",
       "    <tr>\n",
       "      <th>3.366746e+10</th>\n",
       "      <td>6</td>\n",
       "      <td>5649882.0</td>\n",
       "      <td>266222647.0</td>\n",
       "      <td>2.334299e+09</td>\n",
       "      <td>2.600522e+09</td>\n",
       "    </tr>\n",
       "    <tr>\n",
       "      <th>3.376041e+10</th>\n",
       "      <td>12</td>\n",
       "      <td>5321667.0</td>\n",
       "      <td>521518890.0</td>\n",
       "      <td>6.610852e+09</td>\n",
       "      <td>7.132371e+09</td>\n",
       "    </tr>\n",
       "  </tbody>\n",
       "</table>\n",
       "</div>"
      ],
      "text/plain": [
       "               session_freq    duration   upload_tot  download_tot  \\\n",
       "MSISDN/Number                                                        \n",
       "3.362578e+10             17  18553754.0  729577380.0  7.770043e+09   \n",
       "3.361489e+10             17   9966898.0  689483001.0  8.156743e+09   \n",
       "3.376054e+10             15   9279434.0  703478581.0  7.811295e+09   \n",
       "3.362632e+10             18   8791927.0  669650721.0  7.301517e+09   \n",
       "3.366716e+10             13   8744914.0  566326364.0  5.052068e+09   \n",
       "3.366284e+10              9   6614270.0  406424372.0  3.593674e+09   \n",
       "3.366469e+10              9   6288730.0  402180804.0  5.279827e+09   \n",
       "3.360313e+10             12   6287761.0  435587631.0  4.540607e+09   \n",
       "3.366746e+10              6   5649882.0  266222647.0  2.334299e+09   \n",
       "3.376041e+10             12   5321667.0  521518890.0  6.610852e+09   \n",
       "\n",
       "                    traffic  \n",
       "MSISDN/Number                \n",
       "3.362578e+10   8.499621e+09  \n",
       "3.361489e+10   8.846226e+09  \n",
       "3.376054e+10   8.514774e+09  \n",
       "3.362632e+10   7.971167e+09  \n",
       "3.366716e+10   5.618394e+09  \n",
       "3.366284e+10   4.000098e+09  \n",
       "3.366469e+10   5.682007e+09  \n",
       "3.360313e+10   4.976195e+09  \n",
       "3.366746e+10   2.600522e+09  \n",
       "3.376041e+10   7.132371e+09  "
      ]
     },
     "execution_count": 44,
     "metadata": {},
     "output_type": "execute_result"
    }
   ],
   "source": [
    "# find the top 10 users for session duration\n",
    "duration_order = customer_data.sort_values(by=\"duration\", ascending=False)\n",
    "duration_order.head(10)"
   ]
  },
  {
   "cell_type": "code",
   "execution_count": 45,
   "metadata": {},
   "outputs": [
    {
     "data": {
      "text/html": [
       "<div>\n",
       "<style scoped>\n",
       "    .dataframe tbody tr th:only-of-type {\n",
       "        vertical-align: middle;\n",
       "    }\n",
       "\n",
       "    .dataframe tbody tr th {\n",
       "        vertical-align: top;\n",
       "    }\n",
       "\n",
       "    .dataframe thead th {\n",
       "        text-align: right;\n",
       "    }\n",
       "</style>\n",
       "<table border=\"1\" class=\"dataframe\">\n",
       "  <thead>\n",
       "    <tr style=\"text-align: right;\">\n",
       "      <th></th>\n",
       "      <th>session_freq</th>\n",
       "      <th>duration</th>\n",
       "      <th>upload_tot</th>\n",
       "      <th>download_tot</th>\n",
       "      <th>traffic</th>\n",
       "    </tr>\n",
       "    <tr>\n",
       "      <th>MSISDN/Number</th>\n",
       "      <th></th>\n",
       "      <th></th>\n",
       "      <th></th>\n",
       "      <th></th>\n",
       "      <th></th>\n",
       "    </tr>\n",
       "  </thead>\n",
       "  <tbody>\n",
       "    <tr>\n",
       "      <th>3.361489e+10</th>\n",
       "      <td>17</td>\n",
       "      <td>9966898.0</td>\n",
       "      <td>689483001.0</td>\n",
       "      <td>8.156743e+09</td>\n",
       "      <td>8.846226e+09</td>\n",
       "    </tr>\n",
       "    <tr>\n",
       "      <th>3.376054e+10</th>\n",
       "      <td>15</td>\n",
       "      <td>9279434.0</td>\n",
       "      <td>703478581.0</td>\n",
       "      <td>7.811295e+09</td>\n",
       "      <td>8.514774e+09</td>\n",
       "    </tr>\n",
       "    <tr>\n",
       "      <th>3.362578e+10</th>\n",
       "      <td>17</td>\n",
       "      <td>18553754.0</td>\n",
       "      <td>729577380.0</td>\n",
       "      <td>7.770043e+09</td>\n",
       "      <td>8.499621e+09</td>\n",
       "    </tr>\n",
       "    <tr>\n",
       "      <th>3.362632e+10</th>\n",
       "      <td>18</td>\n",
       "      <td>8791927.0</td>\n",
       "      <td>669650721.0</td>\n",
       "      <td>7.301517e+09</td>\n",
       "      <td>7.971167e+09</td>\n",
       "    </tr>\n",
       "    <tr>\n",
       "      <th>3.367588e+10</th>\n",
       "      <td>15</td>\n",
       "      <td>4865947.0</td>\n",
       "      <td>581568792.0</td>\n",
       "      <td>7.309542e+09</td>\n",
       "      <td>7.891111e+09</td>\n",
       "    </tr>\n",
       "    <tr>\n",
       "      <th>3.365973e+10</th>\n",
       "      <td>16</td>\n",
       "      <td>4035428.0</td>\n",
       "      <td>624260321.0</td>\n",
       "      <td>7.081602e+09</td>\n",
       "      <td>7.705863e+09</td>\n",
       "    </tr>\n",
       "    <tr>\n",
       "      <th>3.366646e+10</th>\n",
       "      <td>11</td>\n",
       "      <td>4536757.0</td>\n",
       "      <td>405060976.0</td>\n",
       "      <td>6.903440e+09</td>\n",
       "      <td>7.308501e+09</td>\n",
       "    </tr>\n",
       "    <tr>\n",
       "      <th>3.376041e+10</th>\n",
       "      <td>12</td>\n",
       "      <td>5321667.0</td>\n",
       "      <td>521518890.0</td>\n",
       "      <td>6.610852e+09</td>\n",
       "      <td>7.132371e+09</td>\n",
       "    </tr>\n",
       "    <tr>\n",
       "      <th>3.366471e+10</th>\n",
       "      <td>11</td>\n",
       "      <td>2927785.0</td>\n",
       "      <td>471244453.0</td>\n",
       "      <td>6.400774e+09</td>\n",
       "      <td>6.872018e+09</td>\n",
       "    </tr>\n",
       "    <tr>\n",
       "      <th>3.369879e+10</th>\n",
       "      <td>11</td>\n",
       "      <td>5169128.0</td>\n",
       "      <td>530343105.0</td>\n",
       "      <td>6.010556e+09</td>\n",
       "      <td>6.540899e+09</td>\n",
       "    </tr>\n",
       "  </tbody>\n",
       "</table>\n",
       "</div>"
      ],
      "text/plain": [
       "               session_freq    duration   upload_tot  download_tot  \\\n",
       "MSISDN/Number                                                        \n",
       "3.361489e+10             17   9966898.0  689483001.0  8.156743e+09   \n",
       "3.376054e+10             15   9279434.0  703478581.0  7.811295e+09   \n",
       "3.362578e+10             17  18553754.0  729577380.0  7.770043e+09   \n",
       "3.362632e+10             18   8791927.0  669650721.0  7.301517e+09   \n",
       "3.367588e+10             15   4865947.0  581568792.0  7.309542e+09   \n",
       "3.365973e+10             16   4035428.0  624260321.0  7.081602e+09   \n",
       "3.366646e+10             11   4536757.0  405060976.0  6.903440e+09   \n",
       "3.376041e+10             12   5321667.0  521518890.0  6.610852e+09   \n",
       "3.366471e+10             11   2927785.0  471244453.0  6.400774e+09   \n",
       "3.369879e+10             11   5169128.0  530343105.0  6.010556e+09   \n",
       "\n",
       "                    traffic  \n",
       "MSISDN/Number                \n",
       "3.361489e+10   8.846226e+09  \n",
       "3.376054e+10   8.514774e+09  \n",
       "3.362578e+10   8.499621e+09  \n",
       "3.362632e+10   7.971167e+09  \n",
       "3.367588e+10   7.891111e+09  \n",
       "3.365973e+10   7.705863e+09  \n",
       "3.366646e+10   7.308501e+09  \n",
       "3.376041e+10   7.132371e+09  \n",
       "3.366471e+10   6.872018e+09  \n",
       "3.369879e+10   6.540899e+09  "
      ]
     },
     "execution_count": 45,
     "metadata": {},
     "output_type": "execute_result"
    }
   ],
   "source": [
    "# find the top 10 users by total traffic \n",
    "traffic_order = customer_data.sort_values(by=\"traffic\", ascending=False)\n",
    "traffic_order.head(10)"
   ]
  }
 ],
 "metadata": {
  "kernelspec": {
   "display_name": "venv",
   "language": "python",
   "name": "python3"
  },
  "language_info": {
   "codemirror_mode": {
    "name": "ipython",
    "version": 3
   },
   "file_extension": ".py",
   "mimetype": "text/x-python",
   "name": "python",
   "nbconvert_exporter": "python",
   "pygments_lexer": "ipython3",
   "version": "3.10.2"
  }
 },
 "nbformat": 4,
 "nbformat_minor": 2
}
