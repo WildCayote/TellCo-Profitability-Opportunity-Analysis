{
 "cells": [
  {
   "cell_type": "markdown",
   "metadata": {},
   "source": [
    "### Add scripts path to the notebook"
   ]
  },
  {
   "cell_type": "code",
   "execution_count": 2,
   "metadata": {},
   "outputs": [
    {
     "name": "stdout",
     "output_type": "stream",
     "text": [
      "d:\\KifiyaAIM-Course\\Week - 2\\TellCo-Profitability-Opportunity-Analysis\\notebooks\n"
     ]
    }
   ],
   "source": [
    "import sys\n",
    "import os\n",
    "\n",
    "current_dir = os.getcwd()\n",
    "print(current_dir)\n",
    "\n",
    "# Get the parent directory\n",
    "parent_dir = os.path.dirname(current_dir)\n",
    "\n",
    "scripts_path = os.path.join(parent_dir, 'scripts')\n",
    "\n",
    "# Insert the path to the parent directory\n",
    "sys.path.insert(0, parent_dir)\n",
    "\n",
    "# Insert the path to the Scripts directory\n",
    "sys.path.insert(0, scripts_path)\n",
    "\n",
    "# Add the parent directory to the Python path\n",
    "sys.path.append(os.path.abspath(os.path.join('..')))"
   ]
  },
  {
   "cell_type": "markdown",
   "metadata": {},
   "source": [
    "### Import Statements"
   ]
  },
  {
   "cell_type": "code",
   "execution_count": 3,
   "metadata": {},
   "outputs": [],
   "source": [
    "import math\n",
    "import pandas as pd\n",
    "import seaborn as sns\n",
    "from matplotlib import pyplot as plt\n",
    "\n",
    "from sklearn.preprocessing import Normalizer\n",
    "from sklearn.cluster import KMeans\n",
    "\n",
    "from scripts.database_client import DB_Client\n"
   ]
  },
  {
   "cell_type": "markdown",
   "metadata": {},
   "source": [
    "### Initialize DB_Client"
   ]
  },
  {
   "cell_type": "code",
   "execution_count": 4,
   "metadata": {},
   "outputs": [],
   "source": [
    "# obtain values form environment variables\n",
    "host = os.getenv(\"DB_HOST\")\n",
    "user_name = os.getenv(\"DB_USER\")\n",
    "passowrd = os.getenv(\"DB_PASSWORD\")\n",
    "port = os.getenv(\"DB_PORT\")\n",
    "database = os.getenv(\"DB_NAME\")"
   ]
  },
  {
   "cell_type": "code",
   "execution_count": 5,
   "metadata": {},
   "outputs": [],
   "source": [
    "db_client = DB_Client(\n",
    "    host=host,\n",
    "    user_name=user_name,\n",
    "    password=passowrd,\n",
    "    port=port,\n",
    "    database_name=database\n",
    ")"
   ]
  },
  {
   "cell_type": "markdown",
   "metadata": {},
   "source": [
    "### Load the data from the database"
   ]
  },
  {
   "cell_type": "code",
   "execution_count": 6,
   "metadata": {},
   "outputs": [
    {
     "name": "stderr",
     "output_type": "stream",
     "text": [
      "d:\\KifiyaAIM-Course\\Week - 2\\TellCo-Profitability-Opportunity-Analysis\\scripts\\database_client.py:82: UserWarning: pandas only supports SQLAlchemy connectable (engine/connection) or database string URI or sqlite3 DBAPI2 connection. Other DBAPI2 objects are not tested. Please consider using SQLAlchemy.\n",
      "  response = pd.read_sql_query(sql=query, con=self.connection)\n"
     ]
    }
   ],
   "source": [
    "data = db_client.dump_data()"
   ]
  },
  {
   "cell_type": "markdown",
   "metadata": {},
   "source": [
    "### Data Cleaning"
   ]
  },
  {
   "cell_type": "code",
   "execution_count": 7,
   "metadata": {},
   "outputs": [
    {
     "data": {
      "text/plain": [
       "Bearer Id                                   0.006607\n",
       "Start                                       0.000007\n",
       "Start ms                                    0.000007\n",
       "End                                         0.000007\n",
       "End ms                                      0.000007\n",
       "Dur. (ms)                                   0.000007\n",
       "IMSI                                        0.003800\n",
       "MSISDN/Number                               0.007107\n",
       "IMEI                                        0.003813\n",
       "Last Location Name                          0.007687\n",
       "Avg RTT DL (ms)                             0.185525\n",
       "Avg RTT UL (ms)                             0.185412\n",
       "Avg Bearer TP DL (kbps)                     0.000007\n",
       "Avg Bearer TP UL (kbps)                     0.000007\n",
       "TCP DL Retrans. Vol (Bytes)                 0.587636\n",
       "TCP UL Retrans. Vol (Bytes)                 0.644322\n",
       "DL TP < 50 Kbps (%)                         0.005027\n",
       "50 Kbps < DL TP < 250 Kbps (%)              0.005027\n",
       "250 Kbps < DL TP < 1 Mbps (%)               0.005027\n",
       "DL TP > 1 Mbps (%)                          0.005027\n",
       "UL TP < 10 Kbps (%)                         0.005280\n",
       "10 Kbps < UL TP < 50 Kbps (%)               0.005280\n",
       "50 Kbps < UL TP < 300 Kbps (%)              0.005280\n",
       "UL TP > 300 Kbps (%)                        0.005280\n",
       "HTTP DL (Bytes)                             0.543156\n",
       "HTTP UL (Bytes)                             0.545396\n",
       "Activity Duration DL (ms)                   0.000007\n",
       "Activity Duration UL (ms)                   0.000007\n",
       "Dur. (ms).1                                 0.000007\n",
       "Handset Manufacturer                        0.003813\n",
       "Handset Type                                0.003813\n",
       "Nb of sec with 125000B < Vol DL             0.650249\n",
       "Nb of sec with 1250B < Vol UL < 6250B       0.619289\n",
       "Nb of sec with 31250B < Vol DL < 125000B    0.623903\n",
       "Nb of sec with 37500B < Vol UL              0.868354\n",
       "Nb of sec with 6250B < Vol DL < 31250B      0.588776\n",
       "Nb of sec with 6250B < Vol UL < 37500B      0.745615\n",
       "Nb of sec with Vol DL < 6250B               0.005033\n",
       "Nb of sec with Vol UL < 1250B               0.005287\n",
       "Social Media DL (Bytes)                     0.000000\n",
       "Social Media UL (Bytes)                     0.000000\n",
       "Google DL (Bytes)                           0.000000\n",
       "Google UL (Bytes)                           0.000000\n",
       "Email DL (Bytes)                            0.000000\n",
       "Email UL (Bytes)                            0.000000\n",
       "Youtube DL (Bytes)                          0.000000\n",
       "Youtube UL (Bytes)                          0.000000\n",
       "Netflix DL (Bytes)                          0.000000\n",
       "Netflix UL (Bytes)                          0.000000\n",
       "Gaming DL (Bytes)                           0.000000\n",
       "Gaming UL (Bytes)                           0.000000\n",
       "Other DL (Bytes)                            0.000000\n",
       "Other UL (Bytes)                            0.000000\n",
       "Total UL (Bytes)                            0.000007\n",
       "Total DL (Bytes)                            0.000007\n",
       "dtype: float64"
      ]
     },
     "execution_count": 7,
     "metadata": {},
     "output_type": "execute_result"
    }
   ],
   "source": [
    "data.isna().mean()"
   ]
  },
  {
   "cell_type": "markdown",
   "metadata": {},
   "source": [
    "As described in the _user_overview_analysis.ipynb_ since the data has a lot of missing vlaues in some columns droping the rows isn't the best option. So only cleanning the features that are important/relevant to the current task is the better option. The features of interest(columns) with null values are put in a list and the cleaning only happens in those columns, just for the specific task"
   ]
  },
  {
   "cell_type": "code",
   "execution_count": 8,
   "metadata": {},
   "outputs": [
    {
     "data": {
      "text/plain": [
       "MSISDN/Number    0.007107\n",
       "IMSI             0.003800\n",
       "Bearer Id        0.006607\n",
       "Start            0.000007\n",
       "Start ms         0.000007\n",
       "End              0.000007\n",
       "End ms           0.000007\n",
       "Dur. (ms)        0.000007\n",
       "Dur. (ms).1      0.000007\n",
       "dtype: float64"
      ]
     },
     "execution_count": 8,
     "metadata": {},
     "output_type": "execute_result"
    }
   ],
   "source": [
    "columns_of_interest = [\"MSISDN/Number\", \"IMSI\", \"Bearer Id\", \"Start\", \"Start ms\", \"End\", \"End ms\", \"Dur. (ms)\", \"Dur. (ms).1\"]\n",
    "data[columns_of_interest].isna().mean()"
   ]
  },
  {
   "cell_type": "markdown",
   "metadata": {},
   "source": [
    "I have decided to drop the missing values found in the given columns because the amount of data we loose is very little"
   ]
  },
  {
   "cell_type": "code",
   "execution_count": 9,
   "metadata": {},
   "outputs": [],
   "source": [
    "data.dropna(subset=columns_of_interest, inplace=True)"
   ]
  },
  {
   "cell_type": "markdown",
   "metadata": {},
   "source": [
    "### Tracking user engagement "
   ]
  },
  {
   "cell_type": "markdown",
   "metadata": {},
   "source": [
    "1) Group data based on the MSISDN (phone number)"
   ]
  },
  {
   "cell_type": "code",
   "execution_count": 10,
   "metadata": {},
   "outputs": [],
   "source": [
    "customer_grouping = data.groupby(by=\"MSISDN/Number\")"
   ]
  },
  {
   "cell_type": "markdown",
   "metadata": {},
   "source": [
    "2) Aggregate the required data. Since every entry in the database is a session we have to group them by the phone numebr, which we did above, and then calculate the total frequency by adding the unique _Bearer Id / sessionId_, summing up the download and upload byets for the sessions, and also adding the durations per sessions"
   ]
  },
  {
   "cell_type": "code",
   "execution_count": 11,
   "metadata": {},
   "outputs": [],
   "source": [
    "customer_data = customer_grouping.agg({\n",
    "    \"Bearer Id\": \"count\", # count the amount of session per sim card\n",
    "    \"Dur. (ms)\": \"sum\", # calculate the total duration per sim card in the data\n",
    "    \"Total UL (Bytes)\":  \"sum\", #calculate the total upload per sim card\n",
    "    \"Total DL (Bytes)\": \"sum\", # calculate the total download per sim card \n",
    "})\n",
    "\n",
    "# finding the total trafic(sum between total download and uplaod)\n",
    "customer_data[\"traffic\"] = customer_data[\"Total UL (Bytes)\"] + customer_data[\"Total DL (Bytes)\"]\n",
    "\n",
    "# renaming the fields\n",
    "customer_data.rename(columns={\n",
    "    \"Bearer Id\": \"session_freq\",\n",
    "    \"Dur. (ms)\": \"duration\",\n",
    "    \"Total UL (Bytes)\": \"upload_tot\",\n",
    "    \"Total DL (Bytes)\": \"download_tot\"\n",
    "}, inplace=True)"
   ]
  },
  {
   "cell_type": "code",
   "execution_count": 12,
   "metadata": {},
   "outputs": [
    {
     "data": {
      "text/plain": [
       "Index(['session_freq', 'duration', 'upload_tot', 'download_tot', 'traffic'], dtype='object')"
      ]
     },
     "execution_count": 12,
     "metadata": {},
     "output_type": "execute_result"
    }
   ],
   "source": [
    "customer_data.columns"
   ]
  },
  {
   "cell_type": "markdown",
   "metadata": {},
   "source": [
    "3) Reporting the top 10 customers per metric"
   ]
  },
  {
   "cell_type": "code",
   "execution_count": 13,
   "metadata": {},
   "outputs": [
    {
     "data": {
      "text/html": [
       "<div>\n",
       "<style scoped>\n",
       "    .dataframe tbody tr th:only-of-type {\n",
       "        vertical-align: middle;\n",
       "    }\n",
       "\n",
       "    .dataframe tbody tr th {\n",
       "        vertical-align: top;\n",
       "    }\n",
       "\n",
       "    .dataframe thead th {\n",
       "        text-align: right;\n",
       "    }\n",
       "</style>\n",
       "<table border=\"1\" class=\"dataframe\">\n",
       "  <thead>\n",
       "    <tr style=\"text-align: right;\">\n",
       "      <th></th>\n",
       "      <th>session_freq</th>\n",
       "      <th>duration</th>\n",
       "      <th>upload_tot</th>\n",
       "      <th>download_tot</th>\n",
       "      <th>traffic</th>\n",
       "    </tr>\n",
       "    <tr>\n",
       "      <th>MSISDN/Number</th>\n",
       "      <th></th>\n",
       "      <th></th>\n",
       "      <th></th>\n",
       "      <th></th>\n",
       "      <th></th>\n",
       "    </tr>\n",
       "  </thead>\n",
       "  <tbody>\n",
       "    <tr>\n",
       "      <th>3.362632e+10</th>\n",
       "      <td>18</td>\n",
       "      <td>8791927.0</td>\n",
       "      <td>669650721.0</td>\n",
       "      <td>7.301517e+09</td>\n",
       "      <td>7.971167e+09</td>\n",
       "    </tr>\n",
       "    <tr>\n",
       "      <th>3.361489e+10</th>\n",
       "      <td>17</td>\n",
       "      <td>9966898.0</td>\n",
       "      <td>689483001.0</td>\n",
       "      <td>8.156743e+09</td>\n",
       "      <td>8.846226e+09</td>\n",
       "    </tr>\n",
       "    <tr>\n",
       "      <th>3.362578e+10</th>\n",
       "      <td>17</td>\n",
       "      <td>18553754.0</td>\n",
       "      <td>729577380.0</td>\n",
       "      <td>7.770043e+09</td>\n",
       "      <td>8.499621e+09</td>\n",
       "    </tr>\n",
       "    <tr>\n",
       "      <th>3.365973e+10</th>\n",
       "      <td>16</td>\n",
       "      <td>4035428.0</td>\n",
       "      <td>624260321.0</td>\n",
       "      <td>7.081602e+09</td>\n",
       "      <td>7.705863e+09</td>\n",
       "    </tr>\n",
       "    <tr>\n",
       "      <th>3.376054e+10</th>\n",
       "      <td>15</td>\n",
       "      <td>9279434.0</td>\n",
       "      <td>703478581.0</td>\n",
       "      <td>7.811295e+09</td>\n",
       "      <td>8.514774e+09</td>\n",
       "    </tr>\n",
       "    <tr>\n",
       "      <th>3.367588e+10</th>\n",
       "      <td>15</td>\n",
       "      <td>4865947.0</td>\n",
       "      <td>581568792.0</td>\n",
       "      <td>7.309542e+09</td>\n",
       "      <td>7.891111e+09</td>\n",
       "    </tr>\n",
       "    <tr>\n",
       "      <th>3.366716e+10</th>\n",
       "      <td>13</td>\n",
       "      <td>8744914.0</td>\n",
       "      <td>566326364.0</td>\n",
       "      <td>5.052068e+09</td>\n",
       "      <td>5.618394e+09</td>\n",
       "    </tr>\n",
       "    <tr>\n",
       "      <th>3.376041e+10</th>\n",
       "      <td>12</td>\n",
       "      <td>5321667.0</td>\n",
       "      <td>521518890.0</td>\n",
       "      <td>6.610852e+09</td>\n",
       "      <td>7.132371e+09</td>\n",
       "    </tr>\n",
       "    <tr>\n",
       "      <th>3.378632e+10</th>\n",
       "      <td>12</td>\n",
       "      <td>4059652.0</td>\n",
       "      <td>466330265.0</td>\n",
       "      <td>5.155901e+09</td>\n",
       "      <td>5.622232e+09</td>\n",
       "    </tr>\n",
       "    <tr>\n",
       "      <th>3.362708e+10</th>\n",
       "      <td>12</td>\n",
       "      <td>4703516.0</td>\n",
       "      <td>445251947.0</td>\n",
       "      <td>5.309479e+09</td>\n",
       "      <td>5.754731e+09</td>\n",
       "    </tr>\n",
       "  </tbody>\n",
       "</table>\n",
       "</div>"
      ],
      "text/plain": [
       "               session_freq    duration   upload_tot  download_tot  \\\n",
       "MSISDN/Number                                                        \n",
       "3.362632e+10             18   8791927.0  669650721.0  7.301517e+09   \n",
       "3.361489e+10             17   9966898.0  689483001.0  8.156743e+09   \n",
       "3.362578e+10             17  18553754.0  729577380.0  7.770043e+09   \n",
       "3.365973e+10             16   4035428.0  624260321.0  7.081602e+09   \n",
       "3.376054e+10             15   9279434.0  703478581.0  7.811295e+09   \n",
       "3.367588e+10             15   4865947.0  581568792.0  7.309542e+09   \n",
       "3.366716e+10             13   8744914.0  566326364.0  5.052068e+09   \n",
       "3.376041e+10             12   5321667.0  521518890.0  6.610852e+09   \n",
       "3.378632e+10             12   4059652.0  466330265.0  5.155901e+09   \n",
       "3.362708e+10             12   4703516.0  445251947.0  5.309479e+09   \n",
       "\n",
       "                    traffic  \n",
       "MSISDN/Number                \n",
       "3.362632e+10   7.971167e+09  \n",
       "3.361489e+10   8.846226e+09  \n",
       "3.362578e+10   8.499621e+09  \n",
       "3.365973e+10   7.705863e+09  \n",
       "3.376054e+10   8.514774e+09  \n",
       "3.367588e+10   7.891111e+09  \n",
       "3.366716e+10   5.618394e+09  \n",
       "3.376041e+10   7.132371e+09  \n",
       "3.378632e+10   5.622232e+09  \n",
       "3.362708e+10   5.754731e+09  "
      ]
     },
     "execution_count": 13,
     "metadata": {},
     "output_type": "execute_result"
    }
   ],
   "source": [
    "# find the top 10 users for session frequency\n",
    "frequency_order = customer_data.sort_values(by=\"session_freq\", ascending=False)\n",
    "frequency_order.head(10)"
   ]
  },
  {
   "cell_type": "code",
   "execution_count": 14,
   "metadata": {},
   "outputs": [
    {
     "data": {
      "text/html": [
       "<div>\n",
       "<style scoped>\n",
       "    .dataframe tbody tr th:only-of-type {\n",
       "        vertical-align: middle;\n",
       "    }\n",
       "\n",
       "    .dataframe tbody tr th {\n",
       "        vertical-align: top;\n",
       "    }\n",
       "\n",
       "    .dataframe thead th {\n",
       "        text-align: right;\n",
       "    }\n",
       "</style>\n",
       "<table border=\"1\" class=\"dataframe\">\n",
       "  <thead>\n",
       "    <tr style=\"text-align: right;\">\n",
       "      <th></th>\n",
       "      <th>session_freq</th>\n",
       "      <th>duration</th>\n",
       "      <th>upload_tot</th>\n",
       "      <th>download_tot</th>\n",
       "      <th>traffic</th>\n",
       "    </tr>\n",
       "    <tr>\n",
       "      <th>MSISDN/Number</th>\n",
       "      <th></th>\n",
       "      <th></th>\n",
       "      <th></th>\n",
       "      <th></th>\n",
       "      <th></th>\n",
       "    </tr>\n",
       "  </thead>\n",
       "  <tbody>\n",
       "    <tr>\n",
       "      <th>3.362578e+10</th>\n",
       "      <td>17</td>\n",
       "      <td>18553754.0</td>\n",
       "      <td>729577380.0</td>\n",
       "      <td>7.770043e+09</td>\n",
       "      <td>8.499621e+09</td>\n",
       "    </tr>\n",
       "    <tr>\n",
       "      <th>3.361489e+10</th>\n",
       "      <td>17</td>\n",
       "      <td>9966898.0</td>\n",
       "      <td>689483001.0</td>\n",
       "      <td>8.156743e+09</td>\n",
       "      <td>8.846226e+09</td>\n",
       "    </tr>\n",
       "    <tr>\n",
       "      <th>3.376054e+10</th>\n",
       "      <td>15</td>\n",
       "      <td>9279434.0</td>\n",
       "      <td>703478581.0</td>\n",
       "      <td>7.811295e+09</td>\n",
       "      <td>8.514774e+09</td>\n",
       "    </tr>\n",
       "    <tr>\n",
       "      <th>3.362632e+10</th>\n",
       "      <td>18</td>\n",
       "      <td>8791927.0</td>\n",
       "      <td>669650721.0</td>\n",
       "      <td>7.301517e+09</td>\n",
       "      <td>7.971167e+09</td>\n",
       "    </tr>\n",
       "    <tr>\n",
       "      <th>3.366716e+10</th>\n",
       "      <td>13</td>\n",
       "      <td>8744914.0</td>\n",
       "      <td>566326364.0</td>\n",
       "      <td>5.052068e+09</td>\n",
       "      <td>5.618394e+09</td>\n",
       "    </tr>\n",
       "    <tr>\n",
       "      <th>3.366284e+10</th>\n",
       "      <td>9</td>\n",
       "      <td>6614270.0</td>\n",
       "      <td>406424372.0</td>\n",
       "      <td>3.593674e+09</td>\n",
       "      <td>4.000098e+09</td>\n",
       "    </tr>\n",
       "    <tr>\n",
       "      <th>3.366469e+10</th>\n",
       "      <td>9</td>\n",
       "      <td>6288730.0</td>\n",
       "      <td>402180804.0</td>\n",
       "      <td>5.279827e+09</td>\n",
       "      <td>5.682007e+09</td>\n",
       "    </tr>\n",
       "    <tr>\n",
       "      <th>3.360313e+10</th>\n",
       "      <td>12</td>\n",
       "      <td>6287761.0</td>\n",
       "      <td>435587631.0</td>\n",
       "      <td>4.540607e+09</td>\n",
       "      <td>4.976195e+09</td>\n",
       "    </tr>\n",
       "    <tr>\n",
       "      <th>3.366746e+10</th>\n",
       "      <td>6</td>\n",
       "      <td>5649882.0</td>\n",
       "      <td>266222647.0</td>\n",
       "      <td>2.334299e+09</td>\n",
       "      <td>2.600522e+09</td>\n",
       "    </tr>\n",
       "    <tr>\n",
       "      <th>3.376041e+10</th>\n",
       "      <td>12</td>\n",
       "      <td>5321667.0</td>\n",
       "      <td>521518890.0</td>\n",
       "      <td>6.610852e+09</td>\n",
       "      <td>7.132371e+09</td>\n",
       "    </tr>\n",
       "  </tbody>\n",
       "</table>\n",
       "</div>"
      ],
      "text/plain": [
       "               session_freq    duration   upload_tot  download_tot  \\\n",
       "MSISDN/Number                                                        \n",
       "3.362578e+10             17  18553754.0  729577380.0  7.770043e+09   \n",
       "3.361489e+10             17   9966898.0  689483001.0  8.156743e+09   \n",
       "3.376054e+10             15   9279434.0  703478581.0  7.811295e+09   \n",
       "3.362632e+10             18   8791927.0  669650721.0  7.301517e+09   \n",
       "3.366716e+10             13   8744914.0  566326364.0  5.052068e+09   \n",
       "3.366284e+10              9   6614270.0  406424372.0  3.593674e+09   \n",
       "3.366469e+10              9   6288730.0  402180804.0  5.279827e+09   \n",
       "3.360313e+10             12   6287761.0  435587631.0  4.540607e+09   \n",
       "3.366746e+10              6   5649882.0  266222647.0  2.334299e+09   \n",
       "3.376041e+10             12   5321667.0  521518890.0  6.610852e+09   \n",
       "\n",
       "                    traffic  \n",
       "MSISDN/Number                \n",
       "3.362578e+10   8.499621e+09  \n",
       "3.361489e+10   8.846226e+09  \n",
       "3.376054e+10   8.514774e+09  \n",
       "3.362632e+10   7.971167e+09  \n",
       "3.366716e+10   5.618394e+09  \n",
       "3.366284e+10   4.000098e+09  \n",
       "3.366469e+10   5.682007e+09  \n",
       "3.360313e+10   4.976195e+09  \n",
       "3.366746e+10   2.600522e+09  \n",
       "3.376041e+10   7.132371e+09  "
      ]
     },
     "execution_count": 14,
     "metadata": {},
     "output_type": "execute_result"
    }
   ],
   "source": [
    "# find the top 10 users for session duration\n",
    "duration_order = customer_data.sort_values(by=\"duration\", ascending=False)\n",
    "duration_order.head(10)"
   ]
  },
  {
   "cell_type": "code",
   "execution_count": 15,
   "metadata": {},
   "outputs": [
    {
     "data": {
      "text/html": [
       "<div>\n",
       "<style scoped>\n",
       "    .dataframe tbody tr th:only-of-type {\n",
       "        vertical-align: middle;\n",
       "    }\n",
       "\n",
       "    .dataframe tbody tr th {\n",
       "        vertical-align: top;\n",
       "    }\n",
       "\n",
       "    .dataframe thead th {\n",
       "        text-align: right;\n",
       "    }\n",
       "</style>\n",
       "<table border=\"1\" class=\"dataframe\">\n",
       "  <thead>\n",
       "    <tr style=\"text-align: right;\">\n",
       "      <th></th>\n",
       "      <th>session_freq</th>\n",
       "      <th>duration</th>\n",
       "      <th>upload_tot</th>\n",
       "      <th>download_tot</th>\n",
       "      <th>traffic</th>\n",
       "    </tr>\n",
       "    <tr>\n",
       "      <th>MSISDN/Number</th>\n",
       "      <th></th>\n",
       "      <th></th>\n",
       "      <th></th>\n",
       "      <th></th>\n",
       "      <th></th>\n",
       "    </tr>\n",
       "  </thead>\n",
       "  <tbody>\n",
       "    <tr>\n",
       "      <th>3.361489e+10</th>\n",
       "      <td>17</td>\n",
       "      <td>9966898.0</td>\n",
       "      <td>689483001.0</td>\n",
       "      <td>8.156743e+09</td>\n",
       "      <td>8.846226e+09</td>\n",
       "    </tr>\n",
       "    <tr>\n",
       "      <th>3.376054e+10</th>\n",
       "      <td>15</td>\n",
       "      <td>9279434.0</td>\n",
       "      <td>703478581.0</td>\n",
       "      <td>7.811295e+09</td>\n",
       "      <td>8.514774e+09</td>\n",
       "    </tr>\n",
       "    <tr>\n",
       "      <th>3.362578e+10</th>\n",
       "      <td>17</td>\n",
       "      <td>18553754.0</td>\n",
       "      <td>729577380.0</td>\n",
       "      <td>7.770043e+09</td>\n",
       "      <td>8.499621e+09</td>\n",
       "    </tr>\n",
       "    <tr>\n",
       "      <th>3.362632e+10</th>\n",
       "      <td>18</td>\n",
       "      <td>8791927.0</td>\n",
       "      <td>669650721.0</td>\n",
       "      <td>7.301517e+09</td>\n",
       "      <td>7.971167e+09</td>\n",
       "    </tr>\n",
       "    <tr>\n",
       "      <th>3.367588e+10</th>\n",
       "      <td>15</td>\n",
       "      <td>4865947.0</td>\n",
       "      <td>581568792.0</td>\n",
       "      <td>7.309542e+09</td>\n",
       "      <td>7.891111e+09</td>\n",
       "    </tr>\n",
       "    <tr>\n",
       "      <th>3.365973e+10</th>\n",
       "      <td>16</td>\n",
       "      <td>4035428.0</td>\n",
       "      <td>624260321.0</td>\n",
       "      <td>7.081602e+09</td>\n",
       "      <td>7.705863e+09</td>\n",
       "    </tr>\n",
       "    <tr>\n",
       "      <th>3.366646e+10</th>\n",
       "      <td>11</td>\n",
       "      <td>4536757.0</td>\n",
       "      <td>405060976.0</td>\n",
       "      <td>6.903440e+09</td>\n",
       "      <td>7.308501e+09</td>\n",
       "    </tr>\n",
       "    <tr>\n",
       "      <th>3.376041e+10</th>\n",
       "      <td>12</td>\n",
       "      <td>5321667.0</td>\n",
       "      <td>521518890.0</td>\n",
       "      <td>6.610852e+09</td>\n",
       "      <td>7.132371e+09</td>\n",
       "    </tr>\n",
       "    <tr>\n",
       "      <th>3.366471e+10</th>\n",
       "      <td>11</td>\n",
       "      <td>2927785.0</td>\n",
       "      <td>471244453.0</td>\n",
       "      <td>6.400774e+09</td>\n",
       "      <td>6.872018e+09</td>\n",
       "    </tr>\n",
       "    <tr>\n",
       "      <th>3.369879e+10</th>\n",
       "      <td>11</td>\n",
       "      <td>5169128.0</td>\n",
       "      <td>530343105.0</td>\n",
       "      <td>6.010556e+09</td>\n",
       "      <td>6.540899e+09</td>\n",
       "    </tr>\n",
       "  </tbody>\n",
       "</table>\n",
       "</div>"
      ],
      "text/plain": [
       "               session_freq    duration   upload_tot  download_tot  \\\n",
       "MSISDN/Number                                                        \n",
       "3.361489e+10             17   9966898.0  689483001.0  8.156743e+09   \n",
       "3.376054e+10             15   9279434.0  703478581.0  7.811295e+09   \n",
       "3.362578e+10             17  18553754.0  729577380.0  7.770043e+09   \n",
       "3.362632e+10             18   8791927.0  669650721.0  7.301517e+09   \n",
       "3.367588e+10             15   4865947.0  581568792.0  7.309542e+09   \n",
       "3.365973e+10             16   4035428.0  624260321.0  7.081602e+09   \n",
       "3.366646e+10             11   4536757.0  405060976.0  6.903440e+09   \n",
       "3.376041e+10             12   5321667.0  521518890.0  6.610852e+09   \n",
       "3.366471e+10             11   2927785.0  471244453.0  6.400774e+09   \n",
       "3.369879e+10             11   5169128.0  530343105.0  6.010556e+09   \n",
       "\n",
       "                    traffic  \n",
       "MSISDN/Number                \n",
       "3.361489e+10   8.846226e+09  \n",
       "3.376054e+10   8.514774e+09  \n",
       "3.362578e+10   8.499621e+09  \n",
       "3.362632e+10   7.971167e+09  \n",
       "3.367588e+10   7.891111e+09  \n",
       "3.365973e+10   7.705863e+09  \n",
       "3.366646e+10   7.308501e+09  \n",
       "3.376041e+10   7.132371e+09  \n",
       "3.366471e+10   6.872018e+09  \n",
       "3.369879e+10   6.540899e+09  "
      ]
     },
     "execution_count": 15,
     "metadata": {},
     "output_type": "execute_result"
    }
   ],
   "source": [
    "# find the top 10 users by total traffic \n",
    "traffic_order = customer_data.sort_values(by=\"traffic\", ascending=False)\n",
    "traffic_order.head(10)"
   ]
  },
  {
   "cell_type": "markdown",
   "metadata": {},
   "source": [
    "### Classifying users into three groups of engagement"
   ]
  },
  {
   "cell_type": "markdown",
   "metadata": {},
   "source": [
    "1) Normalize the data in each field"
   ]
  },
  {
   "cell_type": "code",
   "execution_count": 16,
   "metadata": {},
   "outputs": [],
   "source": [
    "user_normalizer = Normalizer().fit(X=customer_data)\n",
    "normalized_data = user_normalizer.transform(X=customer_data)\n",
    "normalized_data = pd.DataFrame(columns=customer_data.columns, index=customer_data.index, data=normalized_data)"
   ]
  },
  {
   "cell_type": "markdown",
   "metadata": {},
   "source": [
    "2) Run a k-mean where k=3 to classify customers in three groups of engagement\n",
    "\n",
    "    Parameters of the clustering class\n",
    "    - n_clusters = 3: to classify our users into 3 engagement groups/clusters\n",
    "    - init = 'k-means++': selects initial cluster centroids using sampling based on an empirical probability distribution of the points’ contribution to the overall inertia, chose it because convergence is faster.\n",
    "    - n_init = 50: let the algorithm run for 50 times "
   ]
  },
  {
   "cell_type": "code",
   "execution_count": 17,
   "metadata": {},
   "outputs": [],
   "source": [
    "# intialize the clustering algorithm\n",
    "clusterer = KMeans(n_clusters=3, random_state=7, init='k-means++', n_init='auto')\n",
    "\n",
    "# clustering our users \n",
    "engagement_clusters = clusterer.fit(normalized_data)"
   ]
  },
  {
   "cell_type": "markdown",
   "metadata": {},
   "source": [
    "3) Computing the min, max, average and total non normalized features for each cluster"
   ]
  },
  {
   "cell_type": "code",
   "execution_count": 18,
   "metadata": {},
   "outputs": [],
   "source": [
    "# find the lables(clusster marks) for the data points\n",
    "cluster_labels = engagement_clusters.labels_\n",
    "\n",
    "# create a new column for holding a users cluster\n",
    "customer_data['cluster'] = cluster_labels"
   ]
  },
  {
   "cell_type": "code",
   "execution_count": 19,
   "metadata": {},
   "outputs": [],
   "source": [
    "# now filter them into their respective groups\n",
    "cluster_one_statistics = customer_data[customer_data['cluster'] == 0].drop(columns=['cluster']).describe()\n",
    "cluster_two_statistics = customer_data[customer_data['cluster'] == 1].drop(columns=['cluster']).describe()\n",
    "cluster_three_statistics = customer_data[customer_data['cluster'] == 2].drop(columns=['cluster']).describe()"
   ]
  },
  {
   "cell_type": "code",
   "execution_count": 20,
   "metadata": {},
   "outputs": [
    {
     "data": {
      "text/html": [
       "<div>\n",
       "<style scoped>\n",
       "    .dataframe tbody tr th:only-of-type {\n",
       "        vertical-align: middle;\n",
       "    }\n",
       "\n",
       "    .dataframe tbody tr th {\n",
       "        vertical-align: top;\n",
       "    }\n",
       "\n",
       "    .dataframe thead th {\n",
       "        text-align: right;\n",
       "    }\n",
       "</style>\n",
       "<table border=\"1\" class=\"dataframe\">\n",
       "  <thead>\n",
       "    <tr style=\"text-align: right;\">\n",
       "      <th></th>\n",
       "      <th>session_freq</th>\n",
       "      <th>duration</th>\n",
       "      <th>upload_tot</th>\n",
       "      <th>download_tot</th>\n",
       "      <th>traffic</th>\n",
       "    </tr>\n",
       "  </thead>\n",
       "  <tbody>\n",
       "    <tr>\n",
       "      <th>count</th>\n",
       "      <td>82831.000000</td>\n",
       "      <td>8.283100e+04</td>\n",
       "      <td>8.283100e+04</td>\n",
       "      <td>8.283100e+04</td>\n",
       "      <td>8.283100e+04</td>\n",
       "    </tr>\n",
       "    <tr>\n",
       "      <th>mean</th>\n",
       "      <td>1.453610</td>\n",
       "      <td>1.535574e+05</td>\n",
       "      <td>5.855161e+07</td>\n",
       "      <td>7.588899e+08</td>\n",
       "      <td>8.174415e+08</td>\n",
       "    </tr>\n",
       "    <tr>\n",
       "      <th>std</th>\n",
       "      <td>0.866687</td>\n",
       "      <td>2.032785e+05</td>\n",
       "      <td>3.809590e+07</td>\n",
       "      <td>4.486074e+08</td>\n",
       "      <td>4.801432e+08</td>\n",
       "    </tr>\n",
       "    <tr>\n",
       "      <th>min</th>\n",
       "      <td>1.000000</td>\n",
       "      <td>7.142000e+03</td>\n",
       "      <td>2.866892e+06</td>\n",
       "      <td>5.575730e+07</td>\n",
       "      <td>6.103403e+07</td>\n",
       "    </tr>\n",
       "    <tr>\n",
       "      <th>25%</th>\n",
       "      <td>1.000000</td>\n",
       "      <td>7.544900e+04</td>\n",
       "      <td>3.570341e+07</td>\n",
       "      <td>4.754273e+08</td>\n",
       "      <td>5.172615e+08</td>\n",
       "    </tr>\n",
       "    <tr>\n",
       "      <th>50%</th>\n",
       "      <td>1.000000</td>\n",
       "      <td>1.068830e+05</td>\n",
       "      <td>4.652736e+07</td>\n",
       "      <td>6.747127e+08</td>\n",
       "      <td>7.213326e+08</td>\n",
       "    </tr>\n",
       "    <tr>\n",
       "      <th>75%</th>\n",
       "      <td>2.000000</td>\n",
       "      <td>1.773660e+05</td>\n",
       "      <td>7.089218e+07</td>\n",
       "      <td>8.560918e+08</td>\n",
       "      <td>9.086395e+08</td>\n",
       "    </tr>\n",
       "    <tr>\n",
       "      <th>max</th>\n",
       "      <td>18.000000</td>\n",
       "      <td>1.855375e+07</td>\n",
       "      <td>7.295774e+08</td>\n",
       "      <td>8.156743e+09</td>\n",
       "      <td>8.846226e+09</td>\n",
       "    </tr>\n",
       "  </tbody>\n",
       "</table>\n",
       "</div>"
      ],
      "text/plain": [
       "       session_freq      duration    upload_tot  download_tot       traffic\n",
       "count  82831.000000  8.283100e+04  8.283100e+04  8.283100e+04  8.283100e+04\n",
       "mean       1.453610  1.535574e+05  5.855161e+07  7.588899e+08  8.174415e+08\n",
       "std        0.866687  2.032785e+05  3.809590e+07  4.486074e+08  4.801432e+08\n",
       "min        1.000000  7.142000e+03  2.866892e+06  5.575730e+07  6.103403e+07\n",
       "25%        1.000000  7.544900e+04  3.570341e+07  4.754273e+08  5.172615e+08\n",
       "50%        1.000000  1.068830e+05  4.652736e+07  6.747127e+08  7.213326e+08\n",
       "75%        2.000000  1.773660e+05  7.089218e+07  8.560918e+08  9.086395e+08\n",
       "max       18.000000  1.855375e+07  7.295774e+08  8.156743e+09  8.846226e+09"
      ]
     },
     "execution_count": 20,
     "metadata": {},
     "output_type": "execute_result"
    }
   ],
   "source": [
    "cluster_one_statistics"
   ]
  },
  {
   "cell_type": "markdown",
   "metadata": {},
   "source": [
    "Let us plot the statstics"
   ]
  },
  {
   "cell_type": "code",
   "execution_count": 21,
   "metadata": {},
   "outputs": [],
   "source": [
    "# const that determines the amount of cols\n",
    "NUM_COLS =  3\n",
    "\n",
    "# calculate the amount of rows in the plot\n",
    "num_rows = math.ceil((len(customer_data.columns) - 1) / NUM_COLS)"
   ]
  },
  {
   "cell_type": "markdown",
   "metadata": {},
   "source": [
    "* Plot the averages"
   ]
  },
  {
   "cell_type": "code",
   "execution_count": 22,
   "metadata": {},
   "outputs": [
    {
     "data": {
      "image/png": "[encoded data removed]",
      "text/plain": [
       "<Figure size 2000x800 with 6 Axes>"
      ]
     },
     "metadata": {},
     "output_type": "display_data"
    }
   ],
   "source": [
    "# create subplots\n",
    "fig, axes = plt.subplots(ncols=NUM_COLS, nrows=num_rows, figsize=(20, num_rows * 4))\n",
    "\n",
    "# plot the averages of the columns on the first row of the plot\n",
    "row_cols = axes[0]\n",
    "for i in range(3):\n",
    "    ax = row_cols[i]\n",
    "    col = customer_data.columns[i]\n",
    "    ax.set_title(f'Average of {col}')\n",
    "\n",
    "    # basic description for each cluster\n",
    "    sns.barplot(data=[cluster_one_statistics[col]['mean'], cluster_two_statistics[col]['mean'], cluster_three_statistics[col]['mean']], ax=ax)\n",
    "    # Add labels for the clusters\n",
    "    ax.set_xticks([0, 1, 2])\n",
    "    ax.set_xticklabels(['Cluster 1', 'Cluster 2', 'Cluster 3'])\n",
    "\n",
    "# plot the averages of the columsn on the second row of the plot\n",
    "row_cols = axes[1]\n",
    "for i in range(3):\n",
    "    ax = row_cols[i]\n",
    "    i += 3\n",
    "    col = customer_data.columns[i]\n",
    "    if col == 'cluster': continue\n",
    "    \n",
    "    ax.set_title(f'Average of {col}')\n",
    "\n",
    "    # basic description for each cluster\n",
    "    sns.barplot(data=[cluster_one_statistics[col]['mean'], cluster_two_statistics[col]['mean'], cluster_three_statistics[col]['mean']], ax=ax)\n",
    "    \n",
    "    # Add labels for the clusters\n",
    "    ax.set_xticks([0, 1, 2])\n",
    "    ax.set_xticklabels(['Cluster 1', 'Cluster 2', 'Cluster 3'])\n",
    "plt.show()"
   ]
  },
  {
   "cell_type": "markdown",
   "metadata": {},
   "source": [
    "- Plot the min, and max "
   ]
  },
  {
   "cell_type": "code",
   "execution_count": 23,
   "metadata": {},
   "outputs": [
    {
     "data": {
      "image/png": "[encoded data removed]",
      "text/plain": [
       "<Figure size 2000x800 with 6 Axes>"
      ]
     },
     "metadata": {},
     "output_type": "display_data"
    }
   ],
   "source": [
    "import matplotlib.pyplot as plt\n",
    "\n",
    "# Create subplots\n",
    "fig, axes = plt.subplots(ncols=NUM_COLS, nrows=num_rows, figsize=(20, num_rows * 4))\n",
    "\n",
    "# Plot the means, mins, and maxs with whisker lines for the first row of the plot\n",
    "row_cols = axes[0]\n",
    "for i in range(3):\n",
    "    ax = row_cols[i]\n",
    "    col = customer_data.columns[i]\n",
    "    ax.set_title(f'Min, Max, and Mean of {col}')\n",
    "    \n",
    "    # Extract means, mins, and maxs for each cluster\n",
    "    means = [cluster_one_statistics[col]['mean'], cluster_two_statistics[col]['mean'], cluster_three_statistics[col]['mean']]\n",
    "    mins = [cluster_one_statistics[col]['min'], cluster_two_statistics[col]['min'], cluster_three_statistics[col]['min']]\n",
    "    maxs = [cluster_one_statistics[col]['max'], cluster_two_statistics[col]['max'], cluster_three_statistics[col]['max']]\n",
    "    \n",
    "    # Plot means with markers\n",
    "    ax.plot([0, 1, 2], means, marker='o', linestyle='-', color='b', label='Mean')\n",
    "    \n",
    "    # Add vertical lines to indicate the min-max range\n",
    "    for j in range(3):\n",
    "        ax.vlines(j, mins[j], maxs[j], colors='gray', linestyles='-', lw=2)  # Vertical line between min and max\n",
    "        ax.plot(j, mins[j], marker='_', color='r', markersize=12)  # Marker for min\n",
    "        ax.plot(j, maxs[j], marker='_', color='g', markersize=12)  # Marker for max\n",
    "\n",
    "    # Add labels for the clusters\n",
    "    ax.set_xticks([0, 1, 2])\n",
    "    ax.set_xticklabels(['Cluster 1', 'Cluster 2', 'Cluster 3'])\n",
    "\n",
    "# Plot the means, mins, and maxs with whisker lines for the second row of the plot\n",
    "row_cols = axes[1]\n",
    "for i in range(3):\n",
    "    ax = row_cols[i]\n",
    "    i += 3\n",
    "    col = customer_data.columns[i]\n",
    "    if col == 'cluster': continue\n",
    "    \n",
    "    ax.set_title(f'Min, Max, and Mean of {col}')\n",
    "\n",
    "    # Extract means, mins, and maxs for each cluster\n",
    "    means = [cluster_one_statistics[col]['mean'], cluster_two_statistics[col]['mean'], cluster_three_statistics[col]['mean']]\n",
    "    mins = [cluster_one_statistics[col]['min'], cluster_two_statistics[col]['min'], cluster_three_statistics[col]['min']]\n",
    "    maxs = [cluster_one_statistics[col]['max'], cluster_two_statistics[col]['max'], cluster_three_statistics[col]['max']]\n",
    "    \n",
    "    # Plot means with markers\n",
    "    ax.plot([0, 1, 2], means, marker='o', linestyle='-', color='b', label='Mean')\n",
    "    \n",
    "    # Add vertical lines to indicate the min-max range\n",
    "    for j in range(3):\n",
    "        ax.vlines(j, mins[j], maxs[j], colors='gray', linestyles='-', lw=2)  # Vertical line between min and max\n",
    "        ax.plot(j, mins[j], marker='_', color='r', markersize=12)  # Marker for min\n",
    "        ax.plot(j, maxs[j], marker='_', color='g', markersize=12)  # Marker for max\n",
    "\n",
    "    # Add labels for the clusters\n",
    "    ax.set_xticks([0, 1, 2])\n",
    "    ax.set_xticklabels(['Cluster 1', 'Cluster 2', 'Cluster 3'])\n",
    "\n",
    "plt.tight_layout()\n",
    "plt.show()\n"
   ]
  },
  {
   "cell_type": "markdown",
   "metadata": {},
   "source": [
    "- Plot the total"
   ]
  },
  {
   "cell_type": "code",
   "execution_count": 24,
   "metadata": {},
   "outputs": [],
   "source": [
    "# now filter them into their respective groups and find the sum of every column\n",
    "cluster_one_total = customer_data[customer_data['cluster'] == 0].drop(columns=['cluster']).sum()\n",
    "cluster_two_total = customer_data[customer_data['cluster'] == 1].drop(columns=['cluster']).sum()\n",
    "cluster_three_total = customer_data[customer_data['cluster'] == 2].drop(columns=['cluster']).sum()"
   ]
  },
  {
   "cell_type": "code",
   "execution_count": 25,
   "metadata": {},
   "outputs": [
    {
     "data": {
      "image/png": "[encoded data removed]",
      "text/plain": [
       "<Figure size 2000x800 with 6 Axes>"
      ]
     },
     "metadata": {},
     "output_type": "display_data"
    }
   ],
   "source": [
    "# create subplots\n",
    "fig, axes = plt.subplots(ncols=NUM_COLS, nrows=num_rows, figsize=(20, num_rows * 4))\n",
    "\n",
    "# plot the averages of the columns on the first row of the plot\n",
    "row_cols = axes[0]\n",
    "for i in range(3):\n",
    "    ax = row_cols[i]\n",
    "    col = customer_data.columns[i]\n",
    "    ax.set_title(f'Total of {col}')\n",
    "\n",
    "    # basic description for each cluster\n",
    "    sns.barplot(data=[cluster_one_total[col], cluster_two_total[col], cluster_three_total[col]], ax=ax)\n",
    "    # Add labels for the clusters\n",
    "    ax.set_xticks([0, 1, 2])\n",
    "    ax.set_xticklabels(['Cluster 1', 'Cluster 2', 'Cluster 3'])\n",
    "\n",
    "# plot the averages of the columsn on the second row of the plot\n",
    "row_cols = axes[1]\n",
    "for i in range(3):\n",
    "    ax = row_cols[i]\n",
    "    i += 3\n",
    "    col = customer_data.columns[i]\n",
    "    if col == 'cluster': continue\n",
    "    \n",
    "    ax.set_title(f'Total of {col}')\n",
    "\n",
    "    # basic description for each cluster\n",
    "    sns.barplot(data=[cluster_one_total[col], cluster_two_total[col], cluster_three_total[col]], ax=ax)\n",
    "    \n",
    "    # Add labels for the clusters\n",
    "    ax.set_xticks([0, 1, 2])\n",
    "    ax.set_xticklabels(['Cluster 1', 'Cluster 2', 'Cluster 3'])\n",
    "plt.show()"
   ]
  },
  {
   "cell_type": "markdown",
   "metadata": {},
   "source": [
    "### Aggeregate the users total traffic per application and derive the top 10 most engaged users per application"
   ]
  },
  {
   "cell_type": "markdown",
   "metadata": {},
   "source": [
    "1) Calculate the aggregate for every application available"
   ]
  },
  {
   "cell_type": "code",
   "execution_count": 32,
   "metadata": {},
   "outputs": [],
   "source": [
    "# group the users' application usage per \n",
    "user_app_aggregation = customer_grouping.agg({\n",
    "    \"Youtube DL (Bytes)\": \"sum\",\n",
    "    \"Youtube UL (Bytes)\": \"sum\",\n",
    "    \"Netflix UL (Bytes)\": \"sum\",\n",
    "    \"Netflix DL (Bytes)\": \"sum\",\n",
    "    \"Google DL (Bytes)\": \"sum\",\n",
    "    \"Google UL (Bytes)\": \"sum\",\n",
    "    \"Gaming DL (Bytes)\": \"sum\",\n",
    "    \"Gaming UL (Bytes)\": \"sum\",\n",
    "    \"Email DL (Bytes)\": \"sum\",\n",
    "    \"Email UL (Bytes)\": \"sum\",\n",
    "    \"Social Media UL (Bytes)\": \"sum\",\n",
    "    \"Social Media DL (Bytes)\": \"sum\"\n",
    "})\n",
    "\n",
    "# renme the columns\n",
    "user_app_aggregation = user_app_aggregation.rename(columns={\n",
    "    \"Youtube DL (Bytes)\": \"youtube_dl\",\n",
    "    \"Youtube UL (Bytes)\": \"youtube_ul\",\n",
    "    \"Netflix UL (Bytes)\": \"netflix_ul\",\n",
    "    \"Netflix DL (Bytes)\": \"netflix_dl\",\n",
    "    \"Google DL (Bytes)\": \"google_dl\",\n",
    "    \"Google UL (Bytes)\": \"google_ul\",\n",
    "    \"Gaming DL (Bytes)\": \"gaming_dl\",\n",
    "    \"Gaming UL (Bytes)\": \"gaming_ul\",\n",
    "    \"Email DL (Bytes)\": \"email_dl\",\n",
    "    \"Email UL (Bytes)\": \"email_ul\",\n",
    "    \"Social Media UL (Bytes)\": \"social_ul\",\n",
    "    \"Social Media DL (Bytes)\": \"social_dl\"  \n",
    "})\n",
    "\n",
    "# find the total traffic\n",
    "user_app_aggregation['youtube'] = user_app_aggregation[\"youtube_dl\"] + user_app_aggregation[\"youtube_ul\"]\n",
    "user_app_aggregation['google'] = user_app_aggregation[\"google_dl\"] + user_app_aggregation[\"google_ul\"]\n",
    "user_app_aggregation['netflix'] = user_app_aggregation[\"netflix_dl\"] + user_app_aggregation[\"netflix_ul\"]\n",
    "user_app_aggregation['gaming'] = user_app_aggregation[\"gaming_dl\"] + user_app_aggregation[\"gaming_ul\"]\n",
    "user_app_aggregation['email'] = user_app_aggregation[\"email_dl\"] + user_app_aggregation[\"email_ul\"]\n",
    "user_app_aggregation['social'] = user_app_aggregation[\"social_dl\"] + user_app_aggregation[\"social_ul\"]\n",
    "\n",
    "# remove the placeholder columns\n",
    "user_app_aggregation = user_app_aggregation.drop(columns=[\"youtube_dl\", \"youtube_ul\", \"netflix_ul\", \"netflix_dl\", \"google_dl\", \"google_ul\", \"gaming_dl\", \"gaming_ul\", \"email_dl\", \"email_ul\", \"social_ul\", \"social_dl\"]\n",
    "    )"
   ]
  },
  {
   "cell_type": "markdown",
   "metadata": {},
   "source": [
    "2) Plot top 3 used applications"
   ]
  },
  {
   "cell_type": "code",
   "execution_count": 53,
   "metadata": {},
   "outputs": [
    {
     "data": {
      "text/plain": [
       "<Axes: >"
      ]
     },
     "execution_count": 53,
     "metadata": {},
     "output_type": "execute_result"
    },
    {
     "data": {
      "image/png": "[encoded data removed]",
      "text/plain": [
       "<Figure size 640x480 with 1 Axes>"
      ]
     },
     "metadata": {},
     "output_type": "display_data"
    }
   ],
   "source": [
    "# find the total usage per app\n",
    "total_app_usage = user_app_aggregation.sum()\n",
    "\n",
    "\n",
    "# the select the top 3\n",
    "sorted = total_app_usage.sort_values(ascending=False)\n",
    "sns.barplot(sorted.head(3))"
   ]
  }
 ],
 "metadata": {
  "kernelspec": {
   "display_name": "venv",
   "language": "python",
   "name": "python3"
  },
  "language_info": {
   "codemirror_mode": {
    "name": "ipython",
    "version": 3
   },
   "file_extension": ".py",
   "mimetype": "text/x-python",
   "name": "python",
   "nbconvert_exporter": "python",
   "pygments_lexer": "ipython3",
   "version": "3.10.2"
  }
 },
 "nbformat": 4,
 "nbformat_minor": 2
}
