{
 "cells": [
  {
   "cell_type": "markdown",
   "metadata": {},
   "source": [
    "### Add scripts path to the notebook"
   ]
  },
  {
   "cell_type": "code",
   "execution_count": 107,
   "metadata": {},
   "outputs": [
    {
     "name": "stdout",
     "output_type": "stream",
     "text": [
      "d:\\KifiyaAIM-Course\\Week - 2\\TellCo-Profitability-Opportunity-Analysis\\notebooks\n"
     ]
    }
   ],
   "source": [
    "import sys\n",
    "import os\n",
    "\n",
    "current_dir = os.getcwd()\n",
    "print(current_dir)\n",
    "\n",
    "# Get the parent directory\n",
    "parent_dir = os.path.dirname(current_dir)\n",
    "\n",
    "scripts_path = os.path.join(parent_dir, 'scripts')\n",
    "\n",
    "# Insert the path to the parent directory\n",
    "sys.path.insert(0, parent_dir)\n",
    "\n",
    "# Insert the path to the Scripts directory\n",
    "sys.path.insert(0, scripts_path)\n",
    "\n",
    "# Add the parent directory to the Python path\n",
    "sys.path.append(os.path.abspath(os.path.join('..')))"
   ]
  },
  {
   "cell_type": "markdown",
   "metadata": {},
   "source": [
    "### Import Statements"
   ]
  },
  {
   "cell_type": "code",
   "execution_count": 108,
   "metadata": {},
   "outputs": [],
   "source": [
    "import math\n",
    "import pandas as pd\n",
    "import seaborn as sns\n",
    "from matplotlib import pyplot as plt\n",
    "\n",
    "from sklearn.cluster import KMeans\n",
    "from sklearn.preprocessing import Normalizer\n",
    "\n",
    "from scripts.database_client import DB_Client\n",
    "from scripts.data_cleaner import DataCleaner\n",
    "from scripts.user_satisfaction import UserStatisfactionCalculator"
   ]
  },
  {
   "cell_type": "code",
   "execution_count": 141,
   "metadata": {},
   "outputs": [],
   "source": [
    "sns.set_theme()"
   ]
  },
  {
   "cell_type": "markdown",
   "metadata": {},
   "source": [
    "### Initialize DB_Client"
   ]
  },
  {
   "cell_type": "code",
   "execution_count": 109,
   "metadata": {},
   "outputs": [],
   "source": [
    "# obtain values form environment variables\n",
    "host = os.getenv(\"DB_HOST\")\n",
    "user_name = os.getenv(\"DB_USER\")\n",
    "passowrd = os.getenv(\"DB_PASSWORD\")\n",
    "port = os.getenv(\"DB_PORT\")\n",
    "database = os.getenv(\"DB_NAME\")"
   ]
  },
  {
   "cell_type": "code",
   "execution_count": 110,
   "metadata": {},
   "outputs": [],
   "source": [
    "db_client = DB_Client(\n",
    "    host=host,\n",
    "    user_name=user_name,\n",
    "    password=passowrd,\n",
    "    port=port,\n",
    "    database_name=database\n",
    ")"
   ]
  },
  {
   "cell_type": "markdown",
   "metadata": {},
   "source": [
    "### Load the data from the database"
   ]
  },
  {
   "cell_type": "code",
   "execution_count": 111,
   "metadata": {},
   "outputs": [
    {
     "name": "stderr",
     "output_type": "stream",
     "text": [
      "d:\\KifiyaAIM-Course\\Week - 2\\TellCo-Profitability-Opportunity-Analysis\\scripts\\database_client.py:82: UserWarning: pandas only supports SQLAlchemy connectable (engine/connection) or database string URI or sqlite3 DBAPI2 connection. Other DBAPI2 objects are not tested. Please consider using SQLAlchemy.\n",
      "  response = pd.read_sql_query(sql=query, con=self.connection)\n"
     ]
    }
   ],
   "source": [
    "data = db_client.dump_data()"
   ]
  },
  {
   "cell_type": "markdown",
   "metadata": {},
   "source": [
    "### Clean the data"
   ]
  },
  {
   "cell_type": "markdown",
   "metadata": {},
   "source": [
    "1) Initialize the data cleaner"
   ]
  },
  {
   "cell_type": "code",
   "execution_count": 112,
   "metadata": {},
   "outputs": [],
   "source": [
    "cleaner = DataCleaner(data=data)"
   ]
  },
  {
   "cell_type": "markdown",
   "metadata": {},
   "source": [
    "2) Clean the experience data"
   ]
  },
  {
   "cell_type": "code",
   "execution_count": 113,
   "metadata": {},
   "outputs": [],
   "source": [
    "# define the columns of interest\n",
    "columns_of_interest = [\"MSISDN/Number\", \"Avg RTT DL (ms)\", \"Avg RTT UL (ms)\", \"TCP DL Retrans. Vol (Bytes)\", \"TCP UL Retrans. Vol (Bytes)\", \"Handset Type\", \"Avg Bearer TP DL (kbps)\", \"Avg Bearer TP UL (kbps)\"]\n",
    "\n",
    "# define columns where we will use mode to replace the NA values\n",
    "mode_columns = [\"MSISDN/Number\", \"Handset Type\"]\n",
    "\n",
    "# define columns where we will use mean to replace the NA values\n",
    "mean_columns = [col for col in columns_of_interest if col not in mode_columns]"
   ]
  },
  {
   "cell_type": "code",
   "execution_count": 114,
   "metadata": {},
   "outputs": [
    {
     "data": {
      "text/plain": [
       "Avg RTT DL (ms)                0.0\n",
       "Avg RTT UL (ms)                0.0\n",
       "TCP DL Retrans. Vol (Bytes)    0.0\n",
       "TCP UL Retrans. Vol (Bytes)    0.0\n",
       "Avg Bearer TP DL (kbps)        0.0\n",
       "Avg Bearer TP UL (kbps)        0.0\n",
       "MSISDN/Number                  0.0\n",
       "Handset Type                   0.0\n",
       "dtype: float64"
      ]
     },
     "execution_count": 114,
     "metadata": {},
     "output_type": "execute_result"
    }
   ],
   "source": [
    "# clean the categorical data(ones who use mode for their NA)\n",
    "data[mode_columns] = cleaner.fill_na(columns=mode_columns, method='mode')\n",
    "\n",
    "# clean the numeric data(ones who use mean for their NA)\n",
    "data[mean_columns] = cleaner.fill_na(columns=mean_columns, method='mean')\n",
    "\n",
    "# print out the final result\n",
    "data[[*mean_columns, *mode_columns]].isna().mean()"
   ]
  },
  {
   "cell_type": "markdown",
   "metadata": {},
   "source": [
    "3) Clean the engagement data"
   ]
  },
  {
   "cell_type": "code",
   "execution_count": 115,
   "metadata": {},
   "outputs": [],
   "source": [
    "columns_of_interest = [\"Start\", \"Start ms\", \"End\", \"End ms\", \"Dur. (ms)\", \"Dur. (ms).1\"]"
   ]
  },
  {
   "cell_type": "code",
   "execution_count": 116,
   "metadata": {},
   "outputs": [
    {
     "data": {
      "text/plain": [
       "Bearer Id                                   0.006607\n",
       "Start                                       0.000007\n",
       "Start ms                                    0.000007\n",
       "End                                         0.000007\n",
       "End ms                                      0.000007\n",
       "Dur. (ms)                                   0.000007\n",
       "IMSI                                        0.003800\n",
       "MSISDN/Number                               0.000000\n",
       "IMEI                                        0.003813\n",
       "Last Location Name                          0.007687\n",
       "Avg RTT DL (ms)                             0.000000\n",
       "Avg RTT UL (ms)                             0.000000\n",
       "Avg Bearer TP DL (kbps)                     0.000000\n",
       "Avg Bearer TP UL (kbps)                     0.000000\n",
       "TCP DL Retrans. Vol (Bytes)                 0.000000\n",
       "TCP UL Retrans. Vol (Bytes)                 0.000000\n",
       "DL TP < 50 Kbps (%)                         0.005027\n",
       "50 Kbps < DL TP < 250 Kbps (%)              0.005027\n",
       "250 Kbps < DL TP < 1 Mbps (%)               0.005027\n",
       "DL TP > 1 Mbps (%)                          0.005027\n",
       "UL TP < 10 Kbps (%)                         0.005280\n",
       "10 Kbps < UL TP < 50 Kbps (%)               0.005280\n",
       "50 Kbps < UL TP < 300 Kbps (%)              0.005280\n",
       "UL TP > 300 Kbps (%)                        0.005280\n",
       "HTTP DL (Bytes)                             0.543156\n",
       "HTTP UL (Bytes)                             0.545396\n",
       "Activity Duration DL (ms)                   0.000007\n",
       "Activity Duration UL (ms)                   0.000007\n",
       "Dur. (ms).1                                 0.000007\n",
       "Handset Manufacturer                        0.003813\n",
       "Handset Type                                0.000000\n",
       "Nb of sec with 125000B < Vol DL             0.650249\n",
       "Nb of sec with 1250B < Vol UL < 6250B       0.619289\n",
       "Nb of sec with 31250B < Vol DL < 125000B    0.623903\n",
       "Nb of sec with 37500B < Vol UL              0.868354\n",
       "Nb of sec with 6250B < Vol DL < 31250B      0.588776\n",
       "Nb of sec with 6250B < Vol UL < 37500B      0.745615\n",
       "Nb of sec with Vol DL < 6250B               0.005033\n",
       "Nb of sec with Vol UL < 1250B               0.005287\n",
       "Social Media DL (Bytes)                     0.000000\n",
       "Social Media UL (Bytes)                     0.000000\n",
       "Google DL (Bytes)                           0.000000\n",
       "Google UL (Bytes)                           0.000000\n",
       "Email DL (Bytes)                            0.000000\n",
       "Email UL (Bytes)                            0.000000\n",
       "Youtube DL (Bytes)                          0.000000\n",
       "Youtube UL (Bytes)                          0.000000\n",
       "Netflix DL (Bytes)                          0.000000\n",
       "Netflix UL (Bytes)                          0.000000\n",
       "Gaming DL (Bytes)                           0.000000\n",
       "Gaming UL (Bytes)                           0.000000\n",
       "Other DL (Bytes)                            0.000000\n",
       "Other UL (Bytes)                            0.000000\n",
       "Total UL (Bytes)                            0.000007\n",
       "Total DL (Bytes)                            0.000007\n",
       "dtype: float64"
      ]
     },
     "execution_count": 116,
     "metadata": {},
     "output_type": "execute_result"
    }
   ],
   "source": [
    "cleaner.find_na()"
   ]
  },
  {
   "cell_type": "code",
   "execution_count": 117,
   "metadata": {},
   "outputs": [
    {
     "data": {
      "text/plain": [
       "Bearer Id                                   0.0\n",
       "Start                                       0.0\n",
       "Start ms                                    0.0\n",
       "End                                         0.0\n",
       "End ms                                      0.0\n",
       "Dur. (ms)                                   0.0\n",
       "IMSI                                        0.0\n",
       "MSISDN/Number                               0.0\n",
       "IMEI                                        0.0\n",
       "Last Location Name                          0.0\n",
       "Avg RTT DL (ms)                             0.0\n",
       "Avg RTT UL (ms)                             0.0\n",
       "Avg Bearer TP DL (kbps)                     0.0\n",
       "Avg Bearer TP UL (kbps)                     0.0\n",
       "TCP DL Retrans. Vol (Bytes)                 0.0\n",
       "TCP UL Retrans. Vol (Bytes)                 0.0\n",
       "DL TP < 50 Kbps (%)                         0.0\n",
       "50 Kbps < DL TP < 250 Kbps (%)              0.0\n",
       "250 Kbps < DL TP < 1 Mbps (%)               0.0\n",
       "DL TP > 1 Mbps (%)                          0.0\n",
       "UL TP < 10 Kbps (%)                         0.0\n",
       "10 Kbps < UL TP < 50 Kbps (%)               0.0\n",
       "50 Kbps < UL TP < 300 Kbps (%)              0.0\n",
       "UL TP > 300 Kbps (%)                        0.0\n",
       "HTTP DL (Bytes)                             0.0\n",
       "HTTP UL (Bytes)                             0.0\n",
       "Activity Duration DL (ms)                   0.0\n",
       "Activity Duration UL (ms)                   0.0\n",
       "Dur. (ms).1                                 0.0\n",
       "Handset Manufacturer                        0.0\n",
       "Handset Type                                0.0\n",
       "Nb of sec with 125000B < Vol DL             0.0\n",
       "Nb of sec with 1250B < Vol UL < 6250B       0.0\n",
       "Nb of sec with 31250B < Vol DL < 125000B    0.0\n",
       "Nb of sec with 37500B < Vol UL              0.0\n",
       "Nb of sec with 6250B < Vol DL < 31250B      0.0\n",
       "Nb of sec with 6250B < Vol UL < 37500B      0.0\n",
       "Nb of sec with Vol DL < 6250B               0.0\n",
       "Nb of sec with Vol UL < 1250B               0.0\n",
       "Social Media DL (Bytes)                     0.0\n",
       "Social Media UL (Bytes)                     0.0\n",
       "Google DL (Bytes)                           0.0\n",
       "Google UL (Bytes)                           0.0\n",
       "Email DL (Bytes)                            0.0\n",
       "Email UL (Bytes)                            0.0\n",
       "Youtube DL (Bytes)                          0.0\n",
       "Youtube UL (Bytes)                          0.0\n",
       "Netflix DL (Bytes)                          0.0\n",
       "Netflix UL (Bytes)                          0.0\n",
       "Gaming DL (Bytes)                           0.0\n",
       "Gaming UL (Bytes)                           0.0\n",
       "Other DL (Bytes)                            0.0\n",
       "Other UL (Bytes)                            0.0\n",
       "Total UL (Bytes)                            0.0\n",
       "Total DL (Bytes)                            0.0\n",
       "dtype: float64"
      ]
     },
     "execution_count": 117,
     "metadata": {},
     "output_type": "execute_result"
    }
   ],
   "source": [
    "data = cleaner.drop_na()\n",
    "data.isna().mean()"
   ]
  },
  {
   "cell_type": "markdown",
   "metadata": {},
   "source": [
    "### Assign Satisfaction score to users"
   ]
  },
  {
   "cell_type": "code",
   "execution_count": 118,
   "metadata": {},
   "outputs": [],
   "source": [
    "satisfaction_calc = UserStatisfactionCalculator(data=data)"
   ]
  },
  {
   "cell_type": "markdown",
   "metadata": {},
   "source": [
    "1) Assign experience score for users"
   ]
  },
  {
   "cell_type": "code",
   "execution_count": 119,
   "metadata": {},
   "outputs": [
    {
     "name": "stdout",
     "output_type": "stream",
     "text": [
      "Created a normalizer\n"
     ]
    }
   ],
   "source": [
    "# obtain the experience clusters\n",
    "experience_clusters = satisfaction_calc.get_experience_cluster()"
   ]
  },
  {
   "cell_type": "code",
   "execution_count": 120,
   "metadata": {},
   "outputs": [],
   "source": [
    "experience_score = satisfaction_calc.claculate_experience_score()"
   ]
  },
  {
   "cell_type": "markdown",
   "metadata": {},
   "source": [
    "2) Assign engagement score for users"
   ]
  },
  {
   "cell_type": "code",
   "execution_count": 121,
   "metadata": {},
   "outputs": [
    {
     "name": "stdout",
     "output_type": "stream",
     "text": [
      "Created a normalizer\n"
     ]
    }
   ],
   "source": [
    "# obtain the experience clusters\n",
    "engagement_clusters = satisfaction_calc.get_engagement_cluster()"
   ]
  },
  {
   "cell_type": "code",
   "execution_count": 122,
   "metadata": {},
   "outputs": [],
   "source": [
    "engagement_score = satisfaction_calc.calculate_engagement_score()"
   ]
  },
  {
   "cell_type": "markdown",
   "metadata": {},
   "source": [
    "3) Calculate the satisfaction score of users using engagement score and experience score and print top 10 customers"
   ]
  },
  {
   "cell_type": "code",
   "execution_count": 123,
   "metadata": {},
   "outputs": [],
   "source": [
    "# calculate the satisfaction scores of the users\n",
    "satisfaction_scores = satisfaction_calc.get_satifisfaction_score(engagemet_score=engagement_score['engagement_score'], experience_score=experience_score['experience_score'])"
   ]
  },
  {
   "cell_type": "markdown",
   "metadata": {},
   "source": [
    "- Add the metrics to a new dataframe"
   ]
  },
  {
   "cell_type": "code",
   "execution_count": 124,
   "metadata": {},
   "outputs": [],
   "source": [
    "engagement_score['experience_score'] = experience_score['experience_score']\n",
    "engagement_score['satisfaction_score'] = satisfaction_scores\n",
    "\n",
    "unwanted_cols = [col for col in engagement_score.columns if col not in ['experience_score', 'satisfaction_score', 'engagement_score']]\n",
    "user_data = engagement_score.drop(columns=unwanted_cols)"
   ]
  },
  {
   "cell_type": "markdown",
   "metadata": {},
   "source": [
    "Print the top 10 users with regards to satisfaction score"
   ]
  },
  {
   "cell_type": "code",
   "execution_count": 125,
   "metadata": {},
   "outputs": [
    {
     "data": {
      "text/html": [
       "<div>\n",
       "<style scoped>\n",
       "    .dataframe tbody tr th:only-of-type {\n",
       "        vertical-align: middle;\n",
       "    }\n",
       "\n",
       "    .dataframe tbody tr th {\n",
       "        vertical-align: top;\n",
       "    }\n",
       "\n",
       "    .dataframe thead th {\n",
       "        text-align: right;\n",
       "    }\n",
       "</style>\n",
       "<table border=\"1\" class=\"dataframe\">\n",
       "  <thead>\n",
       "    <tr style=\"text-align: right;\">\n",
       "      <th></th>\n",
       "      <th>engagement_score</th>\n",
       "      <th>experience_score</th>\n",
       "      <th>satisfaction_score</th>\n",
       "    </tr>\n",
       "    <tr>\n",
       "      <th>MSISDN/Number</th>\n",
       "      <th></th>\n",
       "      <th></th>\n",
       "      <th></th>\n",
       "    </tr>\n",
       "  </thead>\n",
       "  <tbody>\n",
       "    <tr>\n",
       "      <th>3.362632e+10</th>\n",
       "      <td>4.433729e+10</td>\n",
       "      <td>3.938102e+06</td>\n",
       "      <td>2.217062e+10</td>\n",
       "    </tr>\n",
       "    <tr>\n",
       "      <th>3.365955e+10</th>\n",
       "      <td>6.712507e+09</td>\n",
       "      <td>2.171065e+06</td>\n",
       "      <td>3.357339e+09</td>\n",
       "    </tr>\n",
       "    <tr>\n",
       "      <th>3.369925e+10</th>\n",
       "      <td>5.151779e+09</td>\n",
       "      <td>1.732802e+07</td>\n",
       "      <td>2.584554e+09</td>\n",
       "    </tr>\n",
       "    <tr>\n",
       "      <th>3.365073e+10</th>\n",
       "      <td>5.155759e+09</td>\n",
       "      <td>7.295040e+06</td>\n",
       "      <td>2.581527e+09</td>\n",
       "    </tr>\n",
       "    <tr>\n",
       "      <th>3.366180e+10</th>\n",
       "      <td>5.111951e+09</td>\n",
       "      <td>5.005221e+06</td>\n",
       "      <td>2.558478e+09</td>\n",
       "    </tr>\n",
       "    <tr>\n",
       "      <th>3.366258e+10</th>\n",
       "      <td>5.107097e+09</td>\n",
       "      <td>3.966170e+06</td>\n",
       "      <td>2.555531e+09</td>\n",
       "    </tr>\n",
       "    <tr>\n",
       "      <th>3.376264e+10</th>\n",
       "      <td>4.491789e+09</td>\n",
       "      <td>5.879989e+08</td>\n",
       "      <td>2.539894e+09</td>\n",
       "    </tr>\n",
       "    <tr>\n",
       "      <th>3.366969e+10</th>\n",
       "      <td>4.948515e+09</td>\n",
       "      <td>3.338826e+06</td>\n",
       "      <td>2.475927e+09</td>\n",
       "    </tr>\n",
       "    <tr>\n",
       "      <th>3.365813e+10</th>\n",
       "      <td>4.895647e+09</td>\n",
       "      <td>1.900829e+06</td>\n",
       "      <td>2.448774e+09</td>\n",
       "    </tr>\n",
       "    <tr>\n",
       "      <th>3.369917e+10</th>\n",
       "      <td>4.861821e+09</td>\n",
       "      <td>1.561313e+07</td>\n",
       "      <td>2.438717e+09</td>\n",
       "    </tr>\n",
       "  </tbody>\n",
       "</table>\n",
       "</div>"
      ],
      "text/plain": [
       "               engagement_score  experience_score  satisfaction_score\n",
       "MSISDN/Number                                                        \n",
       "3.362632e+10       4.433729e+10      3.938102e+06        2.217062e+10\n",
       "3.365955e+10       6.712507e+09      2.171065e+06        3.357339e+09\n",
       "3.369925e+10       5.151779e+09      1.732802e+07        2.584554e+09\n",
       "3.365073e+10       5.155759e+09      7.295040e+06        2.581527e+09\n",
       "3.366180e+10       5.111951e+09      5.005221e+06        2.558478e+09\n",
       "3.366258e+10       5.107097e+09      3.966170e+06        2.555531e+09\n",
       "3.376264e+10       4.491789e+09      5.879989e+08        2.539894e+09\n",
       "3.366969e+10       4.948515e+09      3.338826e+06        2.475927e+09\n",
       "3.365813e+10       4.895647e+09      1.900829e+06        2.448774e+09\n",
       "3.369917e+10       4.861821e+09      1.561313e+07        2.438717e+09"
      ]
     },
     "execution_count": 125,
     "metadata": {},
     "output_type": "execute_result"
    }
   ],
   "source": [
    "user_data.sort_values(by='satisfaction_score', ascending=False).head(10)"
   ]
  },
  {
   "cell_type": "markdown",
   "metadata": {},
   "source": [
    "4) Apply k means of k=2 for both experinece score and satisfaction score"
   ]
  },
  {
   "cell_type": "markdown",
   "metadata": {},
   "source": [
    "- Initialize clusterer"
   ]
  },
  {
   "cell_type": "code",
   "execution_count": 126,
   "metadata": {},
   "outputs": [],
   "source": [
    "clusterer = KMeans(n_clusters=2, random_state=7, init='k-means++', n_init=50)"
   ]
  },
  {
   "cell_type": "markdown",
   "metadata": {},
   "source": [
    "- Classify based on experience score"
   ]
  },
  {
   "cell_type": "code",
   "execution_count": 127,
   "metadata": {},
   "outputs": [],
   "source": [
    "experience_clusters = clusterer.fit(user_data.drop(columns=['engagement_score', 'satisfaction_score']))"
   ]
  },
  {
   "cell_type": "markdown",
   "metadata": {},
   "source": [
    "- Classify based on engagement score"
   ]
  },
  {
   "cell_type": "code",
   "execution_count": 128,
   "metadata": {},
   "outputs": [],
   "source": [
    "engagement_clusters = clusterer.fit(user_data.drop(columns=['satisfaction_score', 'experience_score']))"
   ]
  },
  {
   "cell_type": "markdown",
   "metadata": {},
   "source": [
    "5) Aggregate the average satisfaction & experience score"
   ]
  },
  {
   "cell_type": "code",
   "execution_count": 129,
   "metadata": {},
   "outputs": [],
   "source": [
    "# first add the labels for the cluster each user belongs to\n",
    "user_data['engagement_cluster'] = engagement_clusters.labels_\n",
    "user_data['experience_cluster'] = experience_clusters.labels_"
   ]
  },
  {
   "cell_type": "code",
   "execution_count": 132,
   "metadata": {},
   "outputs": [],
   "source": [
    "# aggregate the user data based on engagement cluster\n",
    "engagement_avg_aggregate = user_data.groupby(by='engagement_cluster').agg({\n",
    "    \"satisfaction_score\": \"mean\",\n",
    "    \"experience_score\": \"mean\"\n",
    "})"
   ]
  },
  {
   "cell_type": "code",
   "execution_count": 145,
   "metadata": {},
   "outputs": [
    {
     "data": {
      "image/png": "[encoded data removed]",
      "text/plain": [
       "<Figure size 640x480 with 1 Axes>"
      ]
     },
     "metadata": {},
     "output_type": "display_data"
    }
   ],
   "source": [
    "# plot the average of the clusters\n",
    "sns.scatterplot(x=engagement_avg_aggregate['satisfaction_score'], y=engagement_avg_aggregate['experience_score'])\n",
    "\n",
    "plt.title(f'Scatter Plot of Clusters')\n",
    "\n",
    "# add lable to the points\n",
    "for i in range(len(engagement_avg_aggregate)):\n",
    "    plt.text(engagement_avg_aggregate['satisfaction_score'][i], engagement_avg_aggregate['experience_score'][i], engagement_avg_aggregate.index[i], fontsize=12, ha='right')"
   ]
  },
  {
   "cell_type": "markdown",
   "metadata": {},
   "source": [
    "As we can see from the plot the two clusters have the following properties:\n",
    "- Cluster 0: have low satisfaction and experience scores, so we can say they are groups that aren't satisfied by the service.\n",
    "- Cluster 1: have high satisfaction and experience scores, so we can say they are groups that are satisfied by the service.\n",
    "\n",
    "Besides that we can say that the satisfaction score is strongly related to experience score. We can see that from the graph, and also we literally have it in the equation for finding the satisfaction score"
   ]
  },
  {
   "cell_type": "code",
   "execution_count": 149,
   "metadata": {},
   "outputs": [],
   "source": [
    "# aggregate the user data based on engagement cluster\n",
    "experience_avg_aggregate = user_data.groupby(by='experience_cluster').agg({\n",
    "    \"satisfaction_score\": \"mean\",\n",
    "    \"engagement_score\": \"mean\"\n",
    "})"
   ]
  },
  {
   "cell_type": "code",
   "execution_count": 150,
   "metadata": {},
   "outputs": [
    {
     "data": {
      "image/png": "[encoded data removed]",
      "text/plain": [
       "<Figure size 640x480 with 1 Axes>"
      ]
     },
     "metadata": {},
     "output_type": "display_data"
    }
   ],
   "source": [
    "# plot the average of the clusters\n",
    "sns.scatterplot(x=experience_avg_aggregate['satisfaction_score'], y=experience_avg_aggregate['engagement_score'])\n",
    "\n",
    "plt.title(f'Scatter Plot of Clusters')\n",
    "\n",
    "# add lable to the points\n",
    "for i in range(len(experience_avg_aggregate)):\n",
    "    plt.text(experience_avg_aggregate['satisfaction_score'][i], experience_avg_aggregate['engagement_score'][i], experience_avg_aggregate.index[i], fontsize=12, ha='right')"
   ]
  },
  {
   "cell_type": "markdown",
   "metadata": {},
   "source": [
    "The same results as the previous one can be seen on this plot also"
   ]
  },
  {
   "cell_type": "markdown",
   "metadata": {},
   "source": [
    "6)  Build a regression model that can predict the satisfaction score of a user"
   ]
  },
  {
   "cell_type": "code",
   "execution_count": null,
   "metadata": {},
   "outputs": [],
   "source": []
  },
  {
   "cell_type": "markdown",
   "metadata": {},
   "source": [
    "7) Export the resulting user id and satisfaction, engagement and experience scores "
   ]
  },
  {
   "cell_type": "code",
   "execution_count": null,
   "metadata": {},
   "outputs": [],
   "source": []
  }
 ],
 "metadata": {
  "kernelspec": {
   "display_name": "venv",
   "language": "python",
   "name": "python3"
  },
  "language_info": {
   "codemirror_mode": {
    "name": "ipython",
    "version": 3
   },
   "file_extension": ".py",
   "mimetype": "text/x-python",
   "name": "python",
   "nbconvert_exporter": "python",
   "pygments_lexer": "ipython3",
   "version": "3.10.2"
  }
 },
 "nbformat": 4,
 "nbformat_minor": 2
}
