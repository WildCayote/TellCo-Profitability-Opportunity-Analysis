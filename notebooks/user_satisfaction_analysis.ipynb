{
 "cells": [
  {
   "cell_type": "markdown",
   "metadata": {},
   "source": [
    "### Add scripts path to the notebook"
   ]
  },
  {
   "cell_type": "code",
   "execution_count": 18,
   "metadata": {},
   "outputs": [
    {
     "name": "stdout",
     "output_type": "stream",
     "text": [
      "d:\\KifiyaAIM-Course\\Week - 2\\TellCo-Profitability-Opportunity-Analysis\\notebooks\n"
     ]
    }
   ],
   "source": [
    "import sys\n",
    "import os\n",
    "\n",
    "current_dir = os.getcwd()\n",
    "print(current_dir)\n",
    "\n",
    "# Get the parent directory\n",
    "parent_dir = os.path.dirname(current_dir)\n",
    "\n",
    "scripts_path = os.path.join(parent_dir, 'scripts')\n",
    "\n",
    "# Insert the path to the parent directory\n",
    "sys.path.insert(0, parent_dir)\n",
    "\n",
    "# Insert the path to the Scripts directory\n",
    "sys.path.insert(0, scripts_path)\n",
    "\n",
    "# Add the parent directory to the Python path\n",
    "sys.path.append(os.path.abspath(os.path.join('..')))"
   ]
  },
  {
   "cell_type": "markdown",
   "metadata": {},
   "source": [
    "### Import Statements"
   ]
  },
  {
   "cell_type": "code",
   "execution_count": 19,
   "metadata": {},
   "outputs": [],
   "source": [
    "import math\n",
    "import pandas as pd\n",
    "import seaborn as sns\n",
    "from matplotlib import pyplot as plt\n",
    "\n",
    "from sklearn.cluster import KMeans\n",
    "from sklearn.preprocessing import Normalizer\n",
    "\n",
    "from scripts.database_client import DB_Client\n",
    "from scripts.data_cleaner import DataCleaner\n",
    "from scripts.user_satisfaction import UserStatisfactionCalculator"
   ]
  },
  {
   "cell_type": "markdown",
   "metadata": {},
   "source": [
    "### Initialize DB_Client"
   ]
  },
  {
   "cell_type": "code",
   "execution_count": 20,
   "metadata": {},
   "outputs": [],
   "source": [
    "# obtain values form environment variables\n",
    "host = os.getenv(\"DB_HOST\")\n",
    "user_name = os.getenv(\"DB_USER\")\n",
    "passowrd = os.getenv(\"DB_PASSWORD\")\n",
    "port = os.getenv(\"DB_PORT\")\n",
    "database = os.getenv(\"DB_NAME\")"
   ]
  },
  {
   "cell_type": "code",
   "execution_count": 21,
   "metadata": {},
   "outputs": [],
   "source": [
    "db_client = DB_Client(\n",
    "    host=host,\n",
    "    user_name=user_name,\n",
    "    password=passowrd,\n",
    "    port=port,\n",
    "    database_name=database\n",
    ")"
   ]
  },
  {
   "cell_type": "markdown",
   "metadata": {},
   "source": [
    "### Load the data from the database"
   ]
  },
  {
   "cell_type": "code",
   "execution_count": 22,
   "metadata": {},
   "outputs": [
    {
     "name": "stderr",
     "output_type": "stream",
     "text": [
      "d:\\KifiyaAIM-Course\\Week - 2\\TellCo-Profitability-Opportunity-Analysis\\scripts\\database_client.py:82: UserWarning: pandas only supports SQLAlchemy connectable (engine/connection) or database string URI or sqlite3 DBAPI2 connection. Other DBAPI2 objects are not tested. Please consider using SQLAlchemy.\n",
      "  response = pd.read_sql_query(sql=query, con=self.connection)\n"
     ]
    }
   ],
   "source": [
    "data = db_client.dump_data()"
   ]
  },
  {
   "cell_type": "markdown",
   "metadata": {},
   "source": [
    "### Clean the data"
   ]
  },
  {
   "cell_type": "markdown",
   "metadata": {},
   "source": [
    "1) Initialize the data cleaner"
   ]
  },
  {
   "cell_type": "code",
   "execution_count": 23,
   "metadata": {},
   "outputs": [],
   "source": [
    "cleaner = DataCleaner(data=data)"
   ]
  },
  {
   "cell_type": "markdown",
   "metadata": {},
   "source": [
    "2) Clean the experience data"
   ]
  },
  {
   "cell_type": "code",
   "execution_count": 24,
   "metadata": {},
   "outputs": [],
   "source": [
    "# define the columns of interest\n",
    "columns_of_interest = [\"MSISDN/Number\", \"Avg RTT DL (ms)\", \"Avg RTT UL (ms)\", \"TCP DL Retrans. Vol (Bytes)\", \"TCP UL Retrans. Vol (Bytes)\", \"Handset Type\", \"Avg Bearer TP DL (kbps)\", \"Avg Bearer TP UL (kbps)\"]\n",
    "\n",
    "# define columns where we will use mode to replace the NA values\n",
    "mode_columns = [\"MSISDN/Number\", \"Handset Type\"]\n",
    "\n",
    "# define columns where we will use mean to replace the NA values\n",
    "mean_columns = [col for col in columns_of_interest if col not in mode_columns]"
   ]
  },
  {
   "cell_type": "code",
   "execution_count": 25,
   "metadata": {},
   "outputs": [
    {
     "data": {
      "text/plain": [
       "Avg RTT DL (ms)                0.0\n",
       "Avg RTT UL (ms)                0.0\n",
       "TCP DL Retrans. Vol (Bytes)    0.0\n",
       "TCP UL Retrans. Vol (Bytes)    0.0\n",
       "Avg Bearer TP DL (kbps)        0.0\n",
       "Avg Bearer TP UL (kbps)        0.0\n",
       "MSISDN/Number                  0.0\n",
       "Handset Type                   0.0\n",
       "dtype: float64"
      ]
     },
     "execution_count": 25,
     "metadata": {},
     "output_type": "execute_result"
    }
   ],
   "source": [
    "# clean the categorical data(ones who use mode for their NA)\n",
    "data[mode_columns] = cleaner.fill_na(columns=mode_columns, method='mode')\n",
    "\n",
    "# clean the numeric data(ones who use mean for their NA)\n",
    "data[mean_columns] = cleaner.fill_na(columns=mean_columns, method='mean')\n",
    "\n",
    "# print out the final result\n",
    "data[[*mean_columns, *mode_columns]].isna().mean()"
   ]
  },
  {
   "cell_type": "markdown",
   "metadata": {},
   "source": [
    "3) Clean the engagement data"
   ]
  },
  {
   "cell_type": "code",
   "execution_count": 26,
   "metadata": {},
   "outputs": [],
   "source": [
    "columns_of_interest = [\"Start\", \"Start ms\", \"End\", \"End ms\", \"Dur. (ms)\", \"Dur. (ms).1\"]"
   ]
  },
  {
   "cell_type": "code",
   "execution_count": 27,
   "metadata": {},
   "outputs": [
    {
     "data": {
      "text/plain": [
       "Bearer Id                                   0.006607\n",
       "Start                                       0.000007\n",
       "Start ms                                    0.000007\n",
       "End                                         0.000007\n",
       "End ms                                      0.000007\n",
       "Dur. (ms)                                   0.000007\n",
       "IMSI                                        0.003800\n",
       "MSISDN/Number                               0.000000\n",
       "IMEI                                        0.003813\n",
       "Last Location Name                          0.007687\n",
       "Avg RTT DL (ms)                             0.000000\n",
       "Avg RTT UL (ms)                             0.000000\n",
       "Avg Bearer TP DL (kbps)                     0.000000\n",
       "Avg Bearer TP UL (kbps)                     0.000000\n",
       "TCP DL Retrans. Vol (Bytes)                 0.000000\n",
       "TCP UL Retrans. Vol (Bytes)                 0.000000\n",
       "DL TP < 50 Kbps (%)                         0.005027\n",
       "50 Kbps < DL TP < 250 Kbps (%)              0.005027\n",
       "250 Kbps < DL TP < 1 Mbps (%)               0.005027\n",
       "DL TP > 1 Mbps (%)                          0.005027\n",
       "UL TP < 10 Kbps (%)                         0.005280\n",
       "10 Kbps < UL TP < 50 Kbps (%)               0.005280\n",
       "50 Kbps < UL TP < 300 Kbps (%)              0.005280\n",
       "UL TP > 300 Kbps (%)                        0.005280\n",
       "HTTP DL (Bytes)                             0.543156\n",
       "HTTP UL (Bytes)                             0.545396\n",
       "Activity Duration DL (ms)                   0.000007\n",
       "Activity Duration UL (ms)                   0.000007\n",
       "Dur. (ms).1                                 0.000007\n",
       "Handset Manufacturer                        0.003813\n",
       "Handset Type                                0.000000\n",
       "Nb of sec with 125000B < Vol DL             0.650249\n",
       "Nb of sec with 1250B < Vol UL < 6250B       0.619289\n",
       "Nb of sec with 31250B < Vol DL < 125000B    0.623903\n",
       "Nb of sec with 37500B < Vol UL              0.868354\n",
       "Nb of sec with 6250B < Vol DL < 31250B      0.588776\n",
       "Nb of sec with 6250B < Vol UL < 37500B      0.745615\n",
       "Nb of sec with Vol DL < 6250B               0.005033\n",
       "Nb of sec with Vol UL < 1250B               0.005287\n",
       "Social Media DL (Bytes)                     0.000000\n",
       "Social Media UL (Bytes)                     0.000000\n",
       "Google DL (Bytes)                           0.000000\n",
       "Google UL (Bytes)                           0.000000\n",
       "Email DL (Bytes)                            0.000000\n",
       "Email UL (Bytes)                            0.000000\n",
       "Youtube DL (Bytes)                          0.000000\n",
       "Youtube UL (Bytes)                          0.000000\n",
       "Netflix DL (Bytes)                          0.000000\n",
       "Netflix UL (Bytes)                          0.000000\n",
       "Gaming DL (Bytes)                           0.000000\n",
       "Gaming UL (Bytes)                           0.000000\n",
       "Other DL (Bytes)                            0.000000\n",
       "Other UL (Bytes)                            0.000000\n",
       "Total UL (Bytes)                            0.000007\n",
       "Total DL (Bytes)                            0.000007\n",
       "dtype: float64"
      ]
     },
     "execution_count": 27,
     "metadata": {},
     "output_type": "execute_result"
    }
   ],
   "source": [
    "cleaner.find_na()"
   ]
  },
  {
   "cell_type": "code",
   "execution_count": 28,
   "metadata": {},
   "outputs": [
    {
     "data": {
      "text/plain": [
       "Bearer Id                                   0.0\n",
       "Start                                       0.0\n",
       "Start ms                                    0.0\n",
       "End                                         0.0\n",
       "End ms                                      0.0\n",
       "Dur. (ms)                                   0.0\n",
       "IMSI                                        0.0\n",
       "MSISDN/Number                               0.0\n",
       "IMEI                                        0.0\n",
       "Last Location Name                          0.0\n",
       "Avg RTT DL (ms)                             0.0\n",
       "Avg RTT UL (ms)                             0.0\n",
       "Avg Bearer TP DL (kbps)                     0.0\n",
       "Avg Bearer TP UL (kbps)                     0.0\n",
       "TCP DL Retrans. Vol (Bytes)                 0.0\n",
       "TCP UL Retrans. Vol (Bytes)                 0.0\n",
       "DL TP < 50 Kbps (%)                         0.0\n",
       "50 Kbps < DL TP < 250 Kbps (%)              0.0\n",
       "250 Kbps < DL TP < 1 Mbps (%)               0.0\n",
       "DL TP > 1 Mbps (%)                          0.0\n",
       "UL TP < 10 Kbps (%)                         0.0\n",
       "10 Kbps < UL TP < 50 Kbps (%)               0.0\n",
       "50 Kbps < UL TP < 300 Kbps (%)              0.0\n",
       "UL TP > 300 Kbps (%)                        0.0\n",
       "HTTP DL (Bytes)                             0.0\n",
       "HTTP UL (Bytes)                             0.0\n",
       "Activity Duration DL (ms)                   0.0\n",
       "Activity Duration UL (ms)                   0.0\n",
       "Dur. (ms).1                                 0.0\n",
       "Handset Manufacturer                        0.0\n",
       "Handset Type                                0.0\n",
       "Nb of sec with 125000B < Vol DL             0.0\n",
       "Nb of sec with 1250B < Vol UL < 6250B       0.0\n",
       "Nb of sec with 31250B < Vol DL < 125000B    0.0\n",
       "Nb of sec with 37500B < Vol UL              0.0\n",
       "Nb of sec with 6250B < Vol DL < 31250B      0.0\n",
       "Nb of sec with 6250B < Vol UL < 37500B      0.0\n",
       "Nb of sec with Vol DL < 6250B               0.0\n",
       "Nb of sec with Vol UL < 1250B               0.0\n",
       "Social Media DL (Bytes)                     0.0\n",
       "Social Media UL (Bytes)                     0.0\n",
       "Google DL (Bytes)                           0.0\n",
       "Google UL (Bytes)                           0.0\n",
       "Email DL (Bytes)                            0.0\n",
       "Email UL (Bytes)                            0.0\n",
       "Youtube DL (Bytes)                          0.0\n",
       "Youtube UL (Bytes)                          0.0\n",
       "Netflix DL (Bytes)                          0.0\n",
       "Netflix UL (Bytes)                          0.0\n",
       "Gaming DL (Bytes)                           0.0\n",
       "Gaming UL (Bytes)                           0.0\n",
       "Other DL (Bytes)                            0.0\n",
       "Other UL (Bytes)                            0.0\n",
       "Total UL (Bytes)                            0.0\n",
       "Total DL (Bytes)                            0.0\n",
       "dtype: float64"
      ]
     },
     "execution_count": 28,
     "metadata": {},
     "output_type": "execute_result"
    }
   ],
   "source": [
    "data = cleaner.drop_na()\n",
    "data.isna().mean()"
   ]
  },
  {
   "cell_type": "markdown",
   "metadata": {},
   "source": [
    "### Assign Satisfaction score to users"
   ]
  },
  {
   "cell_type": "code",
   "execution_count": 29,
   "metadata": {},
   "outputs": [],
   "source": [
    "satisfaction_calc = UserStatisfactionCalculator(data=data)"
   ]
  },
  {
   "cell_type": "markdown",
   "metadata": {},
   "source": [
    "1) Assign experience score for users"
   ]
  },
  {
   "cell_type": "code",
   "execution_count": 30,
   "metadata": {},
   "outputs": [
    {
     "name": "stdout",
     "output_type": "stream",
     "text": [
      "Created a normalizer\n"
     ]
    }
   ],
   "source": [
    "# obtain the experience clusters\n",
    "experience_clusters = satisfaction_calc.obtain_experience_cluster()"
   ]
  },
  {
   "cell_type": "code",
   "execution_count": 31,
   "metadata": {},
   "outputs": [],
   "source": [
    "experience_score = satisfaction_calc.claculate_experience_score()"
   ]
  },
  {
   "cell_type": "markdown",
   "metadata": {},
   "source": [
    "2) Assign engagement score for users"
   ]
  },
  {
   "cell_type": "code",
   "execution_count": 32,
   "metadata": {},
   "outputs": [
    {
     "name": "stdout",
     "output_type": "stream",
     "text": [
      "Created a normalizer\n"
     ]
    }
   ],
   "source": [
    "# obtain the experience clusters\n",
    "experience_clusters = satisfaction_calc.obtain_engagement_cluster()"
   ]
  },
  {
   "cell_type": "code",
   "execution_count": 33,
   "metadata": {},
   "outputs": [],
   "source": [
    "experience_score = satisfaction_calc.calculate_engagement_score()"
   ]
  }
 ],
 "metadata": {
  "kernelspec": {
   "display_name": "venv",
   "language": "python",
   "name": "python3"
  },
  "language_info": {
   "codemirror_mode": {
    "name": "ipython",
    "version": 3
   },
   "file_extension": ".py",
   "mimetype": "text/x-python",
   "name": "python",
   "nbconvert_exporter": "python",
   "pygments_lexer": "ipython3",
   "version": "3.10.2"
  }
 },
 "nbformat": 4,
 "nbformat_minor": 2
}
